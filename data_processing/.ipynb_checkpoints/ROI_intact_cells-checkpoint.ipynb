{
 "cells": [
  {
   "cell_type": "code",
   "execution_count": 1,
   "metadata": {},
   "outputs": [],
   "source": [
    "import os, sys\n",
    "import numpy as np\n",
    "import pandas as pd\n",
    "from glob import glob \n",
    "from skimage.measure import regionprops\n",
    "from skimage.io import imread, imsave\n",
    "from os.path import abspath, dirname\n",
    "sys.path.append(\"/groups/multifish/multifish/air_localize_automation/\")\n",
    "import n5_metadata_utils as n5mu\n",
    "import concurrent.futures\n",
    "from scipy.spatial import distance"
   ]
  },
  {
   "cell_type": "code",
   "execution_count": null,
   "metadata": {},
   "outputs": [],
   "source": [
    "lb=imread(\"/nrs/multifish/CEA_analysis/CEA_455264_A/segmentation/264A_R9_label_crop.tif\")\n",
    "roi = np.max(lb)\n",
    "print(roi)"
   ]
  },
  {
   "cell_type": "code",
   "execution_count": 25,
   "metadata": {},
   "outputs": [],
   "source": [
    "mask=imread(\"/nrs/multifish/CEA_analysis/CEA_455264_P/segmentation/mask.tif\")\n",
    "# print(mask.shape)"
   ]
  },
  {
   "cell_type": "code",
   "execution_count": 4,
   "metadata": {},
   "outputs": [],
   "source": [
    "###to remove the last few z-stacks due to high background in the red channel.\n",
    "# mask[650:,:,:]=0"
   ]
  },
  {
   "cell_type": "code",
   "execution_count": 26,
   "metadata": {},
   "outputs": [
    {
     "data": {
      "text/plain": [
       "6260"
      ]
     },
     "execution_count": 26,
     "metadata": {},
     "output_type": "execute_result"
    }
   ],
   "source": [
    "### Get list of ROIs that are fully or partially outside the mask \n",
    "### Make sure to only include ROIs that are intact and in the overlapping regions across all rounds of FISH\n",
    "list=np.unique(lb[mask==0])\n",
    "len(list)\n",
    "###lb[np.isin(lb, list)]=0 #####Too slow; handle this later. "
   ]
  },
  {
   "cell_type": "markdown",
   "metadata": {},
   "source": [
    "####Get metadata for ROI: ID, centroid position, size, distance to (0,0,0) and aspect ratio####"
   ]
  },
  {
   "cell_type": "code",
   "execution_count": 27,
   "metadata": {},
   "outputs": [],
   "source": [
    "df = pd.DataFrame(np.empty([roi, 0]))\n",
    "lb_stat = regionprops(lb)\n",
    "for i in range(0,roi): \n",
    "    df.loc[df.index[i], 'roi'] = lb_stat[i].label\n",
    "    df.loc[df.index[i], 'z'] = lb_stat[i].centroid[0]*0.5*0.84\n",
    "    df.loc[df.index[i], 'y'] = lb_stat[i].centroid[1]*0.5*0.92\n",
    "    df.loc[df.index[i], 'x'] = lb_stat[i].centroid[2]*0.5*0.92\n",
    "    df.loc[df.index[i], 'area'] = lb_stat[i].area*0.5*0.5*0.5*0.84*0.92*0.92\n",
    "    df.loc[df.index[i], 'Distance'] = distance.euclidean(lb_stat[i].centroid,[0,0,0])\n",
    "    df.loc[df.index[i], 'minor_axis_length'] = lb_stat[i].minor_axis_length\n",
    "    df.loc[df.index[i], 'major_axis_length'] = lb_stat[i].major_axis_length\n",
    "    df.loc[df.index[i], 'aspect_ratio'] = lb_stat[i].minor_axis_length/lb_stat[i].major_axis_length\n",
    "    df.loc[df.index[i], 'solidity']=lb_stat[i].solidity"
   ]
  },
  {
   "cell_type": "markdown",
   "metadata": {},
   "source": [
    "#####Filter meta data#####"
   ]
  },
  {
   "cell_type": "code",
   "execution_count": 28,
   "metadata": {},
   "outputs": [],
   "source": [
    "####Filter out ROIs that 1) not in mask; 2) have high background in channel 546\n",
    "\n",
    "df_filtered=df.loc[~df['roi'].isin(list)]"
   ]
  },
  {
   "cell_type": "code",
   "execution_count": 29,
   "metadata": {},
   "outputs": [],
   "source": [
    "df_filtered.roi=df_filtered.roi.astype(int)"
   ]
  },
  {
   "cell_type": "code",
   "execution_count": 30,
   "metadata": {},
   "outputs": [],
   "source": [
    "df_filtered.to_csv(\"/nrs/multifish/CEA_analysis/CEA_455264_P/segmentation/roi_intact_v1.csv\", index=False)"
   ]
  },
  {
   "cell_type": "code",
   "execution_count": 32,
   "metadata": {},
   "outputs": [
    {
     "data": {
      "text/plain": [
       "(6287, 10)"
      ]
     },
     "execution_count": 32,
     "metadata": {},
     "output_type": "execute_result"
    }
   ],
   "source": [
    "df_filtered.shape"
   ]
  }
 ],
 "metadata": {
  "kernelspec": {
   "display_name": "Python 3",
   "language": "python",
   "name": "python3"
  },
  "language_info": {
   "codemirror_mode": {
    "name": "ipython",
    "version": 3
   },
   "file_extension": ".py",
   "mimetype": "text/x-python",
   "name": "python",
   "nbconvert_exporter": "python",
   "pygments_lexer": "ipython3",
   "version": "3.7.1"
  }
 },
 "nbformat": 4,
 "nbformat_minor": 2
}
