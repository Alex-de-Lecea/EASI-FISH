{
 "cells": [
  {
   "cell_type": "markdown",
   "metadata": {},
   "source": [
    "## 1_Image_visualization\n",
    "This notebook is used for inspection of data output from the multifish pipeline. https://github.com/JaneliaSciComp/multifish\n"
   ]
  },
  {
   "cell_type": "markdown",
   "metadata": {},
   "source": [
    "###### Load python packages"
   ]
  },
  {
   "cell_type": "code",
   "execution_count": 1,
   "metadata": {
    "scrolled": true
   },
   "outputs": [],
   "source": [
    "import os, sys\n",
    "import numpy as np"
   ]
  },
  {
   "cell_type": "markdown",
   "metadata": {},
   "source": [
    "###### Open Napari viewer"
   ]
  },
  {
   "cell_type": "code",
   "execution_count": 2,
   "metadata": {},
   "outputs": [],
   "source": [
    "%gui qt5\n",
    "import napari\n",
    "viewer = napari.Viewer(ndisplay=3)"
   ]
  },
  {
   "cell_type": "markdown",
   "metadata": {},
   "source": [
    "### Inspection of Image Stitching\n",
    "\n",
    "- Use data from the '.../stitching/export.n5' folder from both fixed and moving image rounds \n",
    "- loading full resolution, multichannel images can be slow and we recommend inspection of stitching result with Fiji's BigDataViewer. https://imagej.net/plugins/bdv/\n",
    "- Start from image segmentation step instead"
   ]
  },
  {
   "cell_type": "markdown",
   "metadata": {},
   "source": [
    "#### Load 'n5' image data"
   ]
  },
  {
   "cell_type": "code",
   "execution_count": 4,
   "metadata": {
    "scrolled": true
   },
   "outputs": [],
   "source": [
    "# import zarr\n",
    "# imdir='/Volumes/multifish/Pipeline/test_small/LHA3_R3_small/stitching/export.n5' # get n5 image data\n",
    "# subpath='c1/s0' # channel and scale, full resolution (s0) image can be loaded for detailed inspection\n",
    "# im = zarr.open(store=zarr.N5Store(imdir), mode='r')\n",
    "# img = im[subpath][...] ## can also choose to load a subset of the image data"
   ]
  },
  {
   "cell_type": "code",
   "execution_count": 6,
   "metadata": {},
   "outputs": [
    {
     "data": {
      "text/plain": [
       "<Image layer 'img' at 0x1c230e6fd0>"
      ]
     },
     "execution_count": 6,
     "metadata": {},
     "output_type": "execute_result"
    }
   ],
   "source": [
    "# viewer.add_image(img,colormap='gray',blending='additive') #load image data into napari"
   ]
  },
  {
   "cell_type": "markdown",
   "metadata": {},
   "source": [
    "### Inspection of Image segmentation\n",
    "\n",
    "- Use data from the '.../segmentation/xxx.tif' file from fixed image round \n",
    "- Segmentation was created on s2 scale (4x4x2 downsampled) images, thus to overlay segmentation mask with raw image, load s2 scale image instead. "
   ]
  },
  {
   "cell_type": "markdown",
   "metadata": {},
   "source": [
    "#### Load 'n5' image data"
   ]
  },
  {
   "cell_type": "code",
   "execution_count": 4,
   "metadata": {},
   "outputs": [],
   "source": [
    "import zarr\n",
    "imdir='/Users/wangy6/Dropbox (HHMI)/LHA3_R3_medium/stitching/export.n5' # get n5 image data\n",
    "subpath='c2/s2' # channel and scale, full resolution (s0) image can be loaded for detailed inspection\n",
    "im = zarr.open(store=zarr.N5Store(imdir), mode='r')\n",
    "img = im[subpath][...] ## can also choose to load a subset of the image data"
   ]
  },
  {
   "cell_type": "code",
   "execution_count": 5,
   "metadata": {},
   "outputs": [
    {
     "data": {
      "text/plain": [
       "<Image layer 'img' at 0x1c25992a90>"
      ]
     },
     "execution_count": 5,
     "metadata": {},
     "output_type": "execute_result"
    }
   ],
   "source": [
    "viewer.add_image(img,colormap='gray',blending='additive') #load image data into napari"
   ]
  },
  {
   "cell_type": "markdown",
   "metadata": {},
   "source": [
    "###### Read segmentation mask (.tif)"
   ]
  },
  {
   "cell_type": "code",
   "execution_count": 6,
   "metadata": {},
   "outputs": [],
   "source": [
    "from skimage.io import imread, imsave\n",
    "segmentation=imread('/Users/wangy6/Dropbox (HHMI)/LHA3_R3_medium/segmentation/LHA3_R3_medium-c2.tif')"
   ]
  },
  {
   "cell_type": "code",
   "execution_count": 7,
   "metadata": {},
   "outputs": [
    {
     "data": {
      "text/plain": [
       "<Labels layer 'segmentation' at 0x1c43903610>"
      ]
     },
     "execution_count": 7,
     "metadata": {},
     "output_type": "execute_result"
    }
   ],
   "source": [
    "viewer.add_labels(segmentation, name='segmentation') #load segmentation into napari"
   ]
  },
  {
   "cell_type": "markdown",
   "metadata": {},
   "source": [
    "### Inspection of Image registration\n",
    "\n",
    "- Use data from the '.../registration/.../warped' folder from moving image round \n",
    "- Registration was performed on s2 scale (4x4x2 downsampled) images, thus to overlay registration result, load s2 scale image from fixed image round. "
   ]
  },
  {
   "cell_type": "code",
   "execution_count": null,
   "metadata": {},
   "outputs": [],
   "source": [
    "import zarr\n",
    "imdir='/Users/wangy6/Dropbox (HHMI)/LHA3_R3_medium/stitching/export.n5' # get n5 image data\n",
    "subpath='c2/s2' # channel and scale, load s2 for registration \n",
    "im = zarr.open(store=zarr.N5Store(imdir), mode='r')\n",
    "img = im[subpath][...] ## can also choose to load a subset of the image data"
   ]
  },
  {
   "cell_type": "code",
   "execution_count": null,
   "metadata": {},
   "outputs": [],
   "source": [
    "viewer.add_image(img,colormap='red',blending='additive') #load fixed image data into napari"
   ]
  },
  {
   "cell_type": "code",
   "execution_count": 7,
   "metadata": {},
   "outputs": [],
   "source": [
    "imdir_reg='/Users/wangy6/Dropbox (HHMI)/LHA3_R5_medium/registration/LHA3_R5_medium-to-LHA3_R3_medium/warped' # get n5 image data\n",
    "subpath='c2/s2' # channel and scale\n",
    "im_reg = zarr.open(store=zarr.N5Store(imdir_reg), mode='r')\n",
    "img_reg = im_reg[subpath][...] ## can also choose to load a subset of the image data"
   ]
  },
  {
   "cell_type": "code",
   "execution_count": 8,
   "metadata": {},
   "outputs": [
    {
     "data": {
      "text/plain": [
       "<Image layer 'img_reg' at 0x1c23654d90>"
      ]
     },
     "execution_count": 8,
     "metadata": {},
     "output_type": "execute_result"
    }
   ],
   "source": [
    "viewer.add_image(img_reg,colormap='green',blending='additive') #load moving image data into napari"
   ]
  },
  {
   "cell_type": "markdown",
   "metadata": {},
   "source": [
    "### Inspection of spot detection\n",
    "\n",
    "- Use data from the '.../stitching/export.n5' folder from either fixed or moving image rounds\n",
    "- Detected spots coordinate and intensity in '.../spots/merged_points_c0.txt' file \n",
    "- Spot detection was performed on s0 scale (full resolution) images, thus loading s0 scale image is recommended.  "
   ]
  },
  {
   "cell_type": "code",
   "execution_count": 27,
   "metadata": {},
   "outputs": [],
   "source": [
    "import zarr\n",
    "imdir='/Users/wangy6/Dropbox (HHMI)/LHA3_R3_medium/stitching/export.n5/'# get n5 image data\n",
    "subpath='c0/s2' # channel and scale, full resolution (s0) image can be loaded for detailed inspection\n",
    "im = zarr.open(store=zarr.N5Store(imdir), mode='r')\n",
    "img = im[subpath][...] ## can also choose to load a subset of the image data"
   ]
  },
  {
   "cell_type": "code",
   "execution_count": 28,
   "metadata": {},
   "outputs": [
    {
     "data": {
      "text/plain": [
       "<Image layer 'img [1]' at 0x1c443d3fd0>"
      ]
     },
     "execution_count": 28,
     "metadata": {},
     "output_type": "execute_result"
    }
   ],
   "source": [
    "viewer.add_image(img,colormap='green',blending='additive') #load moving image data into napari"
   ]
  },
  {
   "cell_type": "markdown",
   "metadata": {},
   "source": [
    "### RS-FISH output\n",
    "- load s2 scale to avoid memory issues"
   ]
  },
  {
   "cell_type": "code",
   "execution_count": 29,
   "metadata": {},
   "outputs": [],
   "source": [
    "import pandas as pd\n",
    "spotdir = '/Users/wangy6/Dropbox (HHMI)/LHA3_R3_medium/spots/spots_rsfish_c0.csv'\n",
    "spot=pd.read_csv(spotdir)"
   ]
  },
  {
   "cell_type": "code",
   "execution_count": 33,
   "metadata": {},
   "outputs": [],
   "source": [
    "vox=[4,4,2] #image data voxel size, in xyz order\n",
    "s=spot.iloc[:,:3]/vox #convert spot physical coordinates to pixel coordinates"
   ]
  },
  {
   "cell_type": "code",
   "execution_count": 40,
   "metadata": {
    "scrolled": true
   },
   "outputs": [
    {
     "data": {
      "text/plain": [
       "<Points layer 'Points [1]' at 0x1c441bcc50>"
      ]
     },
     "execution_count": 40,
     "metadata": {},
     "output_type": "execute_result"
    }
   ],
   "source": [
    "viewer.add_points(np.transpose(np.array([s['z'],s['y'],s['x']])), \n",
    "                  size=3, symbol='ring',\n",
    "                  face_color='red',edge_color='red',\n",
    "                  n_dimensional=True) #load spots into napari"
   ]
  },
  {
   "cell_type": "markdown",
   "metadata": {},
   "source": [
    "### AIRLOCALIZE output\n",
    "- Only load a small subset to avoid memory issues"
   ]
  },
  {
   "cell_type": "code",
   "execution_count": 58,
   "metadata": {},
   "outputs": [],
   "source": [
    "import zarr\n",
    "imdir='/Volumes/multifish/Pipeline/test/LHA3_R3_medium/stitching/export.n5' # get n5 image data\n",
    "subpath='c0/s0' # channel and scale, full resolution (s0) image can be loaded for detailed inspection\n",
    "im = zarr.open(store=zarr.N5Store(imdir), mode='r')\n",
    "img = im[subpath][100:200,1000:1300,2500:3000] ## can also choose to load a subset of the image data"
   ]
  },
  {
   "cell_type": "code",
   "execution_count": 59,
   "metadata": {},
   "outputs": [
    {
     "data": {
      "text/plain": [
       "<Image layer 'img [2]' at 0x1c660bf390>"
      ]
     },
     "execution_count": 59,
     "metadata": {},
     "output_type": "execute_result"
    }
   ],
   "source": [
    "viewer.add_image(img,colormap='green',blending='additive') #load moving image data into napari"
   ]
  },
  {
   "cell_type": "code",
   "execution_count": 67,
   "metadata": {},
   "outputs": [],
   "source": [
    "import pandas as pd\n",
    "spotdir = '/Users/wangy6/Dropbox (HHMI)/LHA3_R3_medium/spots/spots_c0.txt'\n",
    "spot=pd.read_csv(spotdir,header=None, delimiter=',')"
   ]
  },
  {
   "cell_type": "code",
   "execution_count": 68,
   "metadata": {},
   "outputs": [],
   "source": [
    "vox=[0.23,0.23,0.42] #image data voxel size, in xyz order\n",
    "spot=spot.iloc[:,:3]/vox"
   ]
  },
  {
   "cell_type": "code",
   "execution_count": 69,
   "metadata": {},
   "outputs": [
    {
     "name": "stderr",
     "output_type": "stream",
     "text": [
      "/Users/wangy6/.local/lib/python3.7/site-packages/ipykernel_launcher.py:2: SettingWithCopyWarning: \n",
      "A value is trying to be set on a copy of a slice from a DataFrame.\n",
      "Try using .loc[row_indexer,col_indexer] = value instead\n",
      "\n",
      "See the caveats in the documentation: http://pandas.pydata.org/pandas-docs/stable/user_guide/indexing.html#returning-a-view-versus-a-copy\n",
      "  \n",
      "/Users/wangy6/.local/lib/python3.7/site-packages/ipykernel_launcher.py:3: SettingWithCopyWarning: \n",
      "A value is trying to be set on a copy of a slice from a DataFrame.\n",
      "Try using .loc[row_indexer,col_indexer] = value instead\n",
      "\n",
      "See the caveats in the documentation: http://pandas.pydata.org/pandas-docs/stable/user_guide/indexing.html#returning-a-view-versus-a-copy\n",
      "  This is separate from the ipykernel package so we can avoid doing imports until\n",
      "/Users/wangy6/.local/lib/python3.7/site-packages/ipykernel_launcher.py:4: SettingWithCopyWarning: \n",
      "A value is trying to be set on a copy of a slice from a DataFrame.\n",
      "Try using .loc[row_indexer,col_indexer] = value instead\n",
      "\n",
      "See the caveats in the documentation: http://pandas.pydata.org/pandas-docs/stable/user_guide/indexing.html#returning-a-view-versus-a-copy\n",
      "  after removing the cwd from sys.path.\n"
     ]
    }
   ],
   "source": [
    "s=spot[(spot[2]>=100)&(spot[2]<200)&(spot[1]>=1000)&(spot[1]<1300)&(spot[0]>=2500)&(spot[0]<3000)]\n",
    "s[0]=s[0]-2500\n",
    "s[1]=s[1]-1000\n",
    "s[2]=s[2]-100"
   ]
  },
  {
   "cell_type": "code",
   "execution_count": 70,
   "metadata": {},
   "outputs": [
    {
     "data": {
      "text/plain": [
       "<Points layer 'Points [2]' at 0x1c6685d9d0>"
      ]
     },
     "execution_count": 70,
     "metadata": {},
     "output_type": "execute_result"
    }
   ],
   "source": [
    "viewer.add_points(np.transpose(np.array([s[2],s[1],s[0]])), \n",
    "                  size=10, symbol='ring',\n",
    "                  face_color='red',edge_color='red',\n",
    "                  n_dimensional=True) #load spots into napari"
   ]
  }
 ],
 "metadata": {
  "kernelspec": {
   "display_name": "Napari",
   "language": "python",
   "name": "napari"
  },
  "language_info": {
   "codemirror_mode": {
    "name": "ipython",
    "version": 3
   },
   "file_extension": ".py",
   "mimetype": "text/x-python",
   "name": "python",
   "nbconvert_exporter": "python",
   "pygments_lexer": "ipython3",
   "version": "3.7.4"
  }
 },
 "nbformat": 4,
 "nbformat_minor": 2
}
