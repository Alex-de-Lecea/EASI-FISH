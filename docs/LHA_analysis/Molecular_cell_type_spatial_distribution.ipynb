{
 "cells": [
  {
   "attachments": {},
   "cell_type": "markdown",
   "metadata": {},
   "source": [
    "### Test spatial distribution of molecular clusters:\n",
    "\n",
    "1) to determine the spatiall distribution of molecular cell types  (a.k.a. whether they are clustered, dispersed or uniformly distributed), we compared the cell types with a CSR (complete spatial randomness) process and performed a monte carlo test of CSR (Cressie; Waller). We simulated the CSR process by randomly sampling cells in the data 1,000 times to generate a distribution of the averaged distance to nearest neighbor under CSR (ANNCSR). The number of random sampled cells was matched to that in each molecular cell type. The ANN from each molecular cell types (ANNMol) was calculated and compared to the CSR distribution to calculate the p-value. \n",
    "\n",
    "2) to determine whether the molecular cell types are enriched within proposed subregions, we used an approach similar to the Quadrat statistic (Cressie; Waller), instead of quadrat, the proposed anatomical parcellations are used for this analysis. One hypothesis was that the unequal distributions of molecular types within propose LHA subdomains are due to differences in cell/point densities in these subregions. To test this, we simulated the distribution by shuffling neurons' molecular identity 1000 times to compute the distribution of the χ 2 statistics for each cell type. The χ 2 statistic from the observed molecular cell types was compared to the distribution of expected χ 2 statistics under the above hypothesis to calculate the p values. \n",
    "\n",
    "3) to determine which subregion the given molecular cluster is enriched in, we performed the permutation test, where we shuffled the position of neurons from each molecular type 1,000 times and calculated the distribution of regional enrichment for any given molecular cell type. The observed fraction of neurons enriched in a given subregion from each molecular cell type was compared to the expected distribution from the random process to calculate the p values."
   ]
  },
  {
   "cell_type": "code",
   "execution_count": 2,
   "metadata": {
    "scrolled": true
   },
   "outputs": [],
   "source": [
    "import os, sys\n",
    "import numpy as np\n",
    "import pandas as pd\n",
    "from glob import glob \n",
    "from skimage.io import imread, imsave\n",
    "from os.path import abspath, dirname\n",
    "import matplotlib.pyplot as plt\n",
    "import matplotlib\n",
    "matplotlib.style.use('default')\n",
    "from scipy import stats, spatial\n",
    "import seaborn as sns\n",
    "from scipy.stats import kde, pearsonr\n",
    "from sklearn.utils import shuffle\n",
    "#import scanpy as sc"
   ]
  },
  {
   "cell_type": "code",
   "execution_count": 3,
   "metadata": {},
   "outputs": [],
   "source": [
    "lha_neuron=pd.read_csv('directory/spotcount/neuron',sep=',', index_col=0)\n",
    "ex_m=pd.read_csv('/Slc17a6/molecular/type/metadata',sep=',', index_col=0)\n",
    "inh_m=pd.read_csv('/Slc32a1/molecular/type/metadata',sep=',', index_col=0)\n",
    "lha_neuron=lha_neuron.T\n",
    "lha_neuron=lha_neuron.where(lha_neuron>=0, 0)\n",
    "roi=pd.read_csv('directory/roi/metadata',sep=',', index_col=0)\n",
    "\n",
    "cluster=pd.concat([ex_m,inh_m],axis=0)\n",
    "\n",
    "c=['Ex-1', 'Ex-2', 'Ex-3', 'Ex-4',\n",
    "   'Ex-5', 'Ex-6', 'Ex-7', 'Ex-8', \n",
    "   'Ex-9', 'Ex-10', 'Ex-11', 'Ex-12', \n",
    "   'Ex-13', 'Ex-14', 'Ex-15', 'Ex-16', \n",
    "   'Ex-17', 'Ex-18', 'Ex-19', 'Ex-20',\n",
    "   'Ex-21', 'Ex-22', 'Ex-23', 'Ex-24', \n",
    "   'Ex-25','Inh-1', 'Inh-2','Inh-3', 'Inh-4', \n",
    "   'Inh-5', 'Inh-6', 'Inh-7', 'Inh-8', 'Inh-9', \n",
    "   'Inh-10', 'Inh-11', 'Inh-12', 'Inh-13', 'Inh-14',\n",
    "   'Inh-15', 'Inh-16', 'Inh-17', 'Inh-18', 'Inh-19',\n",
    "   'Inh-20', 'Inh-21', 'Inh-22', 'Inh-23']"
   ]
  },
  {
   "cell_type": "markdown",
   "metadata": {},
   "source": [
    "###### Generate random distribution and compute ANN"
   ]
  },
  {
   "cell_type": "code",
   "execution_count": 7,
   "metadata": {},
   "outputs": [],
   "source": [
    "distrib=pd.DataFrame(np.empty([len(c),1000]),index=c,columns=range(1,1001))\n",
    "for n in c:  \n",
    "    for i in range(1,1001):\n",
    "        idx=np.random.choice(roi.index,df.loc[n,'size'].astype('int'))\n",
    "        X=roi[roi.index.isin(idx)]\n",
    "        dist,r=spatial.KDTree(X.to_numpy()[:,:3]).query(X.to_numpy()[:,:3], k=2)\n",
    "        distrib.loc[n,i]=np.mean(dist[dist!=0])"
   ]
  },
  {
   "cell_type": "code",
   "execution_count": 12,
   "metadata": {},
   "outputs": [],
   "source": [
    "matrix=pd.DataFrame(np.empty([len(c),0]),index=c)\n",
    "for n in c:\n",
    "    C=roi[roi.index.isin(cluster[cluster.x==n].index)].to_numpy()[:,:3]\n",
    "    dist,r=spatial.KDTree(C).query(C, k=2)\n",
    "    matrix.loc[n,'ANN']=np.mean(dist[dist!=0])"
   ]
  },
  {
   "cell_type": "code",
   "execution_count": 18,
   "metadata": {},
   "outputs": [],
   "source": [
    "csr_test=pd.DataFrame(np.empty([len(c),0]),index=c)\n",
    "csr_test.loc[j,'p_value']=-1\n",
    "csr_test.loc[j,'diff']=-1\n",
    "for j in c:\n",
    "    d=distrib.loc[j].to_numpy()\n",
    "    a=len(d[d<=matrix.loc[j,'ANN']])\n",
    "#     b=1001-a\n",
    "    csr_test.loc[j,'p_value']=a/1001\n",
    "    csr_test.loc[j,'diff']=matrix.loc[j,'ANN']-distrib.loc[j].min()"
   ]
  },
  {
   "cell_type": "markdown",
   "metadata": {
    "scrolled": true
   },
   "source": [
    "###### χ 2 test"
   ]
  },
  {
   "cell_type": "code",
   "execution_count": 22,
   "metadata": {},
   "outputs": [],
   "source": [
    "img=imread('LHA/parcellation/mask')"
   ]
  },
  {
   "cell_type": "code",
   "execution_count": 1,
   "metadata": {},
   "outputs": [],
   "source": [
    "A=roi.copy()\n",
    "A=A[(A.x<777)&(A.y<772)&(A.z<266)]\n",
    "# roi.loc[:,'subregion']=0\n",
    "lb=np.unique(img[img!=0])\n",
    "df_q=pd.DataFrame(np.zeros([len(c),len(lb)]),index=c,columns=lb)\n",
    "for j in c:\n",
    "    C=A[A.index.isin(cluster[cluster.x==j].index)]\n",
    "    for x in C.index:\n",
    "        coord=np.array(np.floor(C.loc[x].to_numpy()[:3])-1)\n",
    "        C.loc[x,'subregion']=img[tuple(coord)]\n",
    "        roi.loc[x,'subregion']=img[tuple(coord)]\n",
    "    if len(C)>0:\n",
    "        for y in lb:\n",
    "            df_q.loc[j,y]=len(C[C['subregion']==y])"
   ]
  },
  {
   "cell_type": "markdown",
   "metadata": {},
   "source": [
    "###### Shuffle data and compare spatial distribution within LHA parcellations"
   ]
  },
  {
   "cell_type": "code",
   "execution_count": 26,
   "metadata": {},
   "outputs": [],
   "source": [
    "from sklearn.utils import shuffle\n",
    "\n",
    "a={}\n",
    "\n",
    "for j in c:\n",
    "    shuffle_s=pd.DataFrame(np.zeros([1000,len(lb)]),columns=lb)\n",
    "    for ind in range (0,1000):\n",
    "        roi_s=shuffle(roi.subregion.to_numpy())\n",
    "        roi_shuffle=roi.copy()\n",
    "        roi_shuffle['subregion']=roi_s\n",
    "        X=roi_shuffle[roi_shuffle.index.isin(cluster[cluster.x==j].index)]\n",
    "        if len(X)>0:\n",
    "            for y in lb:\n",
    "                shuffle_s.loc[ind,y]=len(X[X['subregion']==y])\n",
    "        ind+=1\n",
    "    a[j]=shuffle_s"
   ]
  },
  {
   "cell_type": "code",
   "execution_count": 29,
   "metadata": {},
   "outputs": [],
   "source": [
    "for j in c:\n",
    "\n",
    "    a[j]=a[j].rename(columns={1.0: \"LHAd-db\",3.0: \"LHAdl\",4.0: \"LHAs-db\",5.0: \"ZI\", 6.0: \"EP\",\n",
    "                          7.0: \"fornix\",9.0: \"LHA-vl\",11.0:\"LHAf\",17.0:\"LHAhcrt-db\"})\n",
    "\n",
    "    a[j]=a[j][['ZI', 'LHAd-db','LHAhcrt-db','LHAdl','LHAf','fornix', 'LHAs-db','LHA-vl','EP']]\n",
    "\n",
    "\n",
    "    a[j]=a[j].drop(columns='fornix')\n",
    "\n",
    "\n",
    "    a[j]=a[j].rename(columns={\"LHA-vl\":\"LHAf-l\"})"
   ]
  },
  {
   "cell_type": "code",
   "execution_count": 110,
   "metadata": {},
   "outputs": [],
   "source": [
    "\n",
    "chi_square_shuffle=pd.DataFrame(np.zeros([len(c),1000]),index=c)\n",
    "for i in c:\n",
    "    for ind in range(0,1000):\n",
    "        chi_square_shuffle.loc[i,ind]=stats.mstats.chisquare(a[i].loc[ind,:])[0]\n",
    "\n"
   ]
  },
  {
   "cell_type": "code",
   "execution_count": 111,
   "metadata": {},
   "outputs": [],
   "source": [
    "for i in c:\n",
    "    d=stats.chisquare(df_q.loc[i,:])[0]\n",
    "    chi_square.loc[i,'r_pval']=len(np.where(chi_square_shuffle.loc[i,:]>d)[0])/1000\n"
   ]
  },
  {
   "cell_type": "markdown",
   "metadata": {},
   "source": [
    "###### permutation (shuffle) test to determine which LHA subregion molecular cell types are enriched in"
   ]
  },
  {
   "cell_type": "code",
   "execution_count": null,
   "metadata": {},
   "outputs": [],
   "source": [
    "A=roi.copy()\n",
    "A=A[(A.x<777)&(A.y<772)&(A.z<266)]\n",
    "roi.loc[:,'subregion']=0\n",
    "lb=np.unique(img[img!=0])\n",
    "df=pd.DataFrame(np.zeros([len(c),len(lb)]),index=c,columns=lb)\n",
    "for j in c:\n",
    "    C=A[A.index.isin(cluster[cluster.x==j].index)]\n",
    "    for x in C.index:\n",
    "        coord=np.array(np.floor(C.loc[x].to_numpy()[:3])-1)\n",
    "        C.loc[x,'subregion']=img[tuple(coord)]\n",
    "        roi.loc[x,'subregion']=img[tuple(coord)]\n",
    "    if len(C)>0:\n",
    "        for y in lb:\n",
    "            df.loc[j,y]=len(C[C.subregion==y])/len(C)\n",
    "\n",
    "df=df.rename(columns={1.0: \"LHAd-db\",3.0: \"LHAdl\",4.0: \"LHAs-db\",5.0: \"ZI\", 6.0: \"EP\",\n",
    "                      7.0: \"fornix\",9.0: \"LHAf-l\",11.0:\"LHAf\",17.0:\"LHAhcrt-db\"})\n",
    "\n",
    "df=df[['ZI', 'LHAd-db','LHAhcrt-db','LHAdl','LHAf','fornix', 'LHAs-db','LHAf-l','EP']]\n",
    "\n"
   ]
  },
  {
   "cell_type": "code",
   "execution_count": null,
   "metadata": {},
   "outputs": [],
   "source": [
    "A=roi.copy()\n",
    "A=A[(A.x<777)&(A.y<772)&(A.z<266)]\n",
    "A.loc[:,'shuffle']=1\n",
    "for i in c:\n",
    "    m[i]=np.zeros([len(lb)+1,1])\n",
    "for ind in range(1,1001):\n",
    "    cluster_shuffle=cluster.copy()\n",
    "    cluster_shuffle.x=shuffle(cluster.x.to_numpy())\n",
    "    for i in c:\n",
    "        ct=A[A.index.isin(cluster_shuffle[cluster_shuffle.x==i].index)]\n",
    "        x=pd.DataFrame(data=np.zeros([len(lb)+1,1]),index=[0,1,3,4,5,6,7,9,11,17],\n",
    "                       columns=['shuffle'])\n",
    "        y=ct.groupby('subregion').sum()\n",
    "        for j in y.index:\n",
    "            x.loc[j,'shuffle']=y.loc[j,'shuffle']/len(ct)\n",
    "        m[i]=np.append(m[i],x.to_numpy().reshape(10,1),axis=1)"
   ]
  },
  {
   "cell_type": "code",
   "execution_count": null,
   "metadata": {},
   "outputs": [],
   "source": [
    "df_p=pd.DataFrame(data=np.ones(df.shape),index=df.index,columns=df.columns)\n",
    "\n",
    "df_p.shape\n",
    "\n",
    "ind=0\n",
    "for i in c:\n",
    "    \n",
    "    print(i)\n",
    "    for n in range(0,9):\n",
    "        print(n,ind)\n",
    "        df_p.iloc[ind,n]=len(np.where(m[i][n,1:]>df.iloc[ind,n])[0])/1000\n",
    "    ind+=1\n",
    "df_p=df_p.reindex(df_p.index[a.dendrogram_col.reordered_ind])\n",
    "df_p=df_p[df_p.columns[::-1]]\n",
    "df_p=df_p.drop(columns='fornix')"
   ]
  }
 ],
 "metadata": {
  "kernelspec": {
   "display_name": "local-venv",
   "language": "python",
   "name": "local-venv"
  },
  "language_info": {
   "codemirror_mode": {
    "name": "ipython",
    "version": 3
   },
   "file_extension": ".py",
   "mimetype": "text/x-python",
   "name": "python",
   "nbconvert_exporter": "python",
   "pygments_lexer": "ipython3",
   "version": "3.7.1"
  }
 },
 "nbformat": 4,
 "nbformat_minor": 2
}
