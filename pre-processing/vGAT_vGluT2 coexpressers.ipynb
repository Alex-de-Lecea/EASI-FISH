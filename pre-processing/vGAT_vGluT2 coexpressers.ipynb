{
 "cells": [
  {
   "cell_type": "code",
   "execution_count": 2,
   "metadata": {},
   "outputs": [],
   "source": [
    "import os, sys\n",
    "import numpy as np\n",
    "import pandas as pd\n",
    "from glob import glob \n",
    "from skimage.measure import regionprops\n",
    "from skimage.io import imread, imsave\n",
    "from os.path import abspath, dirname\n",
    "sys.path.append(\"/Users/wangy6/Desktop/DATA/Codes/Python/n5_cut tiles/\")\n",
    "import n5_metadata_utils as n5mu\n",
    "import concurrent.futures"
   ]
  },
  {
   "cell_type": "code",
   "execution_count": 3,
   "metadata": {},
   "outputs": [
    {
     "name": "stdout",
     "output_type": "stream",
     "text": [
      "24201\n"
     ]
    }
   ],
   "source": [
    "lb=imread(\"/Volumes/multifish/Yuhan/LHA3/segmentation/segment/R3_label_affinity.tif\")\n",
    "roi = np.max(lb)\n",
    "print(roi)"
   ]
  },
  {
   "cell_type": "code",
   "execution_count": 4,
   "metadata": {},
   "outputs": [
    {
     "data": {
      "text/plain": [
       "(811, 1790, 1790)"
      ]
     },
     "execution_count": 4,
     "metadata": {},
     "output_type": "execute_result"
    }
   ],
   "source": [
    "lb.shape"
   ]
  },
  {
   "cell_type": "code",
   "execution_count": 26,
   "metadata": {},
   "outputs": [
    {
     "name": "stdout",
     "output_type": "stream",
     "text": [
      "[0.92 0.92 0.84]\n",
      "[1790 1790  811]\n",
      "[1646.8  1646.8   681.24]\n"
     ]
    }
   ],
   "source": [
    "    # get appropriate image data    \n",
    "img='/Volumes/multifish/Yuhan/LHA3/stitch/R3_LHA3/export.n5/'\n",
    "subpath='c2/s2'\n",
    "#voxel size in µm (x, y, z)\n",
    "vox= n5mu.read_voxel_spacing(img, subpath)\n",
    "#image size in pixel (x, y, z)\n",
    "grid=n5mu.read_voxel_grid(img, subpath)\n",
    "size=grid*vox\n",
    "print(vox)\n",
    "print(grid)\n",
    "print(size)"
   ]
  },
  {
   "cell_type": "code",
   "execution_count": 5,
   "metadata": {},
   "outputs": [],
   "source": [
    "cell_ID=np.loadtxt(\"/Volumes/multifish/Yuhan/LHA3/segmentation/spot/vGluT2_vGAT/roi_ID.txt\")"
   ]
  },
  {
   "cell_type": "code",
   "execution_count": 6,
   "metadata": {},
   "outputs": [
    {
     "data": {
      "text/plain": [
       "(918,)"
      ]
     },
     "execution_count": 6,
     "metadata": {},
     "output_type": "execute_result"
    }
   ],
   "source": [
    "cell_ID.shape"
   ]
  },
  {
   "cell_type": "code",
   "execution_count": 34,
   "metadata": {},
   "outputs": [
    {
     "data": {
      "text/plain": [
       "array([   38.,   101.,   121.,   134.,   155.,   199.,   204.,   223.,\n",
       "         243.,   256.,   289.,   306.,   349.,   384.,   457.,   497.,\n",
       "         505.,   523.,   544.,   561.,   565.,   573.,   591.,   608.,\n",
       "         643.,   662.,   675.,   693.,   698.,   699.,   734.,   739.,\n",
       "         747.,   773.,   785.,   868.,   873.,   886.,   903.,   912.,\n",
       "         928.,   931.,   936.,   965.,   976.,   982.,  1009.,  1011.,\n",
       "        1030.,  1039.,  1080.,  1081.,  1105.,  1139.,  1154.,  1179.,\n",
       "        1218.,  1226.,  1240.,  1261.,  1284.,  1287.,  1297.,  1314.,\n",
       "        1330.,  1351.,  1353.,  1355.,  1423.,  1435.,  1440.,  1451.,\n",
       "        1462.,  1467.,  1488.,  1494.,  1528.,  1529.,  1536.,  1555.,\n",
       "        1611.,  1613.,  1618.,  1632.,  1685.,  1686.,  1697.,  1728.,\n",
       "        1737.,  1787.,  1800.,  1811.,  1841.,  1877.,  1895.,  1911.,\n",
       "        1913.,  1914.,  1932.,  1936.,  1951.,  1955.,  1990.,  2027.,\n",
       "        2053.,  2056.,  2089.,  2101.,  2122.,  2136.,  2138.,  2140.,\n",
       "        2161.,  2165.,  2174.,  2186.,  2208.,  2284.,  2285.,  2316.,\n",
       "        2426.,  2447.,  2449.,  2457.,  2488.,  2522.,  2544.,  2550.,\n",
       "        2603.,  2641.,  2645.,  2669.,  2673.,  2680.,  2736.,  2754.,\n",
       "        2763.,  2771.,  2782.,  2842.,  2863.,  2872.,  2873.,  2883.,\n",
       "        2904.,  2918.,  2925.,  2929.,  2944.,  2969.,  3006.,  3022.,\n",
       "        3038.,  3073.,  3079.,  3083.,  3100.,  3111.,  3114.,  3115.,\n",
       "        3134.,  3141.,  3147.,  3152.,  3179.,  3180.,  3184.,  3185.,\n",
       "        3199.,  3206.,  3218.,  3232.,  3265.,  3272.,  3286.,  3290.,\n",
       "        3295.,  3296.,  3310.,  3325.,  3342.,  3345.,  3346.,  3356.,\n",
       "        3372.,  3428.,  3432.,  3443.,  3456.,  3486.,  3492.,  3512.,\n",
       "        3518.,  3531.,  3543.,  3550.,  3566.,  3576.,  3586.,  3587.,\n",
       "        3597.,  3627.,  3653.,  3663.,  3675.,  3679.,  3683.,  3704.,\n",
       "        3726.,  3733.,  3754.,  3761.,  3776.,  3777.,  3783.,  3794.,\n",
       "        3795.,  3809.,  3830.,  3853.,  3882.,  3896.,  3903.,  3918.,\n",
       "        3951.,  3962.,  3982.,  3985.,  3998.,  4018.,  4019.,  4049.,\n",
       "        4058.,  4066.,  4094.,  4105.,  4113.,  4143.,  4144.,  4178.,\n",
       "        4183.,  4203.,  4223.,  4224.,  4235.,  4254.,  4255.,  4256.,\n",
       "        4261.,  4303.,  4349.,  4375.,  4411.,  4427.,  4448.,  4451.,\n",
       "        4478.,  4491.,  4525.,  4531.,  4538.,  4576.,  4579.,  4603.,\n",
       "        4607.,  4641.,  4669.,  4694.,  4703.,  4726.,  4733.,  4740.,\n",
       "        4750.,  4759.,  4763.,  4765.,  4822.,  4832.,  4836.,  4849.,\n",
       "        4889.,  4906.,  4908.,  4909.,  4921.,  4939.,  4963.,  4984.,\n",
       "        4991.,  4996.,  5000.,  5017.,  5022.,  5024.,  5038.,  5040.,\n",
       "        5054.,  5057.,  5060.,  5095.,  5118.,  5123.,  5139.,  5143.,\n",
       "        5176.,  5194.,  5198.,  5215.,  5239.,  5262.,  5263.,  5274.,\n",
       "        5282.,  5295.,  5300.,  5327.,  5345.,  5395.,  5401.,  5403.,\n",
       "        5415.,  5455.,  5467.,  5496.,  5513.,  5533.,  5544.,  5551.,\n",
       "        5578.,  5606.,  5617.,  5630.,  5652.,  5697.,  5719.,  5720.,\n",
       "        5742.,  5756.,  5758.,  5802.,  5809.,  5823.,  5829.,  5840.,\n",
       "        5853.,  5908.,  5925.,  5949.,  5961.,  6027.,  6034.,  6057.,\n",
       "        6061.,  6077.,  6089.,  6111.,  6121.,  6123.,  6160.,  6198.,\n",
       "        6199.,  6219.,  6261.,  6265.,  6277.,  6303.,  6320.,  6328.,\n",
       "        6383.,  6384.,  6399.,  6408.,  6416.,  6429.,  6433.,  6443.,\n",
       "        6474.,  6493.,  6500.,  6512.,  6602.,  6634.,  6657.,  6679.,\n",
       "        6682.,  6710.,  6726.,  6728.,  6729.,  6734.,  6736.,  6742.,\n",
       "        6753.,  6768.,  6788.,  6791.,  6792.,  6801.,  6821.,  6871.,\n",
       "        6882.,  6924.,  6945.,  6946.,  6952.,  6990.,  6998.,  7017.,\n",
       "        7052.,  7053.,  7057.,  7070.,  7077.,  7098.,  7115.,  7142.,\n",
       "        7146.,  7171.,  7190.,  7192.,  7196.,  7217.,  7219.,  7248.,\n",
       "        7271.,  7279.,  7286.,  7295.,  7313.,  7315.,  7316.,  7327.,\n",
       "        7352.,  7385.,  7395.,  7406.,  7409.,  7428.,  7439.,  7476.,\n",
       "        7480.,  7488.,  7503.,  7509.,  7547.,  7565.,  7598.,  7622.,\n",
       "        7627.,  7629.,  7639.,  7701.,  7712.,  7738.,  7739.,  7748.,\n",
       "        7751.,  7760.,  7796.,  7800.,  7837.,  7864.,  7894.,  7903.,\n",
       "        7941.,  7948.,  7969.,  7985.,  8001.,  8041.,  8047.,  8049.,\n",
       "        8050.,  8057.,  8079.,  8089.,  8102.,  8123.,  8135.,  8151.,\n",
       "        8152.,  8184.,  8205.,  8220.,  8225.,  8245.,  8254.,  8260.,\n",
       "        8274.,  8280.,  8299.,  8310.,  8334.,  8344.,  8364.,  8375.,\n",
       "        8383.,  8390.,  8436.,  8443.,  8451.,  8479.,  8484.,  8489.,\n",
       "        8492.,  8493.,  8500.,  8520.,  8526.,  8527.,  8543.,  8578.,\n",
       "        8579.,  8581.,  8599.,  8607.,  8618.,  8619.,  8622.,  8633.,\n",
       "        8659.,  8711.,  8726.,  8742.,  8749.,  8796.,  8798.,  8817.,\n",
       "        8851.,  8855.,  8875.,  8880.,  8883.,  8907.,  8913.,  8929.,\n",
       "        8957.,  8969.,  8971.,  8988.,  9019.,  9030.,  9042.,  9086.,\n",
       "        9088.,  9118.,  9129.,  9152.,  9160.,  9163.,  9283.,  9302.,\n",
       "        9311.,  9342.,  9357.,  9369.,  9374.,  9402.,  9407.,  9413.,\n",
       "        9423.,  9437.,  9448.,  9455.,  9461.,  9463.,  9480.,  9484.,\n",
       "        9486.,  9488.,  9490.,  9519.,  9554.,  9555.,  9564.,  9571.,\n",
       "        9585.,  9593.,  9600.,  9623.,  9677.,  9679.,  9705.,  9709.,\n",
       "        9712.,  9727.,  9752.,  9768.,  9769.,  9774.,  9780.,  9793.,\n",
       "        9818.,  9820.,  9823.,  9824.,  9875.,  9881.,  9904.,  9983.,\n",
       "       10000., 10016., 10017., 10022., 10029., 10038., 10045., 10049.,\n",
       "       10053., 10063., 10068., 10077., 10079., 10096., 10108., 10123.,\n",
       "       10135., 10141., 10157., 10176., 10186., 10192., 10215., 10252.,\n",
       "       10253., 10255., 10256., 10257., 10267., 10316., 10328., 10354.,\n",
       "       10376., 10387., 10392., 10397., 10421., 10422., 10491., 10512.,\n",
       "       10516., 10521., 10534., 10585., 10595., 10627., 10649., 10661.,\n",
       "       10672., 10678., 10703., 10722., 10740., 10765., 10769., 10770.,\n",
       "       10809., 10828., 10835., 10857., 10869., 10905., 10923., 10962.,\n",
       "       10984., 10991., 11022., 11023., 11064., 11080., 11125., 11132.,\n",
       "       11138., 11158., 11170., 11179., 11181., 11183., 11195., 11201.,\n",
       "       11203., 11205., 11226., 11235., 11242., 11245., 11254., 11261.,\n",
       "       11281., 11285., 11300., 11313., 11340., 11402., 11412., 11414.,\n",
       "       11472., 11473., 11488., 11522., 11571., 11587., 11597., 11602.,\n",
       "       11643., 11742., 11749., 11756., 11763., 11767., 11769., 11777.,\n",
       "       11778., 11783., 11793., 11808., 11836., 11900., 11906., 11945.,\n",
       "       11949., 12001., 12005., 12045., 12057., 12071., 12096., 12119.,\n",
       "       12171., 12195., 12204., 12219., 12231., 12272., 12274., 12280.,\n",
       "       12290., 12309., 12338., 12368., 12371., 12386., 12396., 12434.,\n",
       "       12436., 12467., 12482., 12491., 12492., 12575., 12581., 12584.,\n",
       "       12588., 12609., 12621., 12627., 12637., 12640., 12653., 12665.,\n",
       "       12677., 12692., 12748., 12757., 12758., 12790., 12837., 12863.,\n",
       "       12879., 12891., 12894., 12934., 12936., 12957., 12982., 12998.,\n",
       "       13071., 13151., 13154., 13164., 13193., 13215., 13280., 13293.,\n",
       "       13322., 13355., 13357., 13378., 13411., 13433., 13435., 13440.,\n",
       "       13447., 13497., 13587., 13651., 13710., 13716., 13806., 13807.,\n",
       "       13855., 13880., 13884., 13885., 13890., 13905., 13918., 13985.,\n",
       "       14025., 14028., 14097., 14120., 14146., 14216., 14225., 14243.,\n",
       "       14251., 14260., 14278., 14290., 14302., 14335., 14383., 14415.,\n",
       "       14444., 14452., 14499., 14544., 14635., 14657., 14735., 14768.,\n",
       "       14807., 14837., 14862., 14879., 14885., 14906., 14932., 14981.,\n",
       "       14994., 14995., 15032., 15064., 15071., 15187., 15246., 15252.,\n",
       "       15254., 15316., 15319., 15382., 15445., 15627., 15656., 15702.,\n",
       "       15767., 15786., 15824., 15899., 15967., 16048., 16059., 16138.,\n",
       "       16142., 16243., 16374., 16381., 16467., 16553., 16603., 16652.,\n",
       "       16668., 16748., 16924., 17152., 17489., 17533., 17597., 17674.,\n",
       "       17763., 18120., 18140., 18143., 18158., 18184., 18264., 18370.,\n",
       "       18431., 18623., 18875., 18969., 19082., 19188., 19247., 19341.,\n",
       "       19437., 19587., 19734., 19817., 20005., 20021., 20059., 20368.,\n",
       "       20436., 20609., 20955., 21486., 21892., 22414., 22902., 23031.,\n",
       "       23078., 23244., 23467., 23742., 23813., 23821.])"
      ]
     },
     "execution_count": 34,
     "metadata": {},
     "output_type": "execute_result"
    }
   ],
   "source": [
    "cell_ID"
   ]
  },
  {
   "cell_type": "code",
   "execution_count": 7,
   "metadata": {},
   "outputs": [
    {
     "data": {
      "text/plain": [
       "(918, 3)"
      ]
     },
     "execution_count": 7,
     "metadata": {},
     "output_type": "execute_result"
    }
   ],
   "source": [
    "lb_stat = regionprops(lb)\n",
    "a=[-1,-1,-1]\n",
    "for i in cell_ID.astype(int):\n",
    "    cen=np.asarray(lb_stat[i].centroid)\n",
    "    a=np.vstack((a,cen))\n",
    "    a=a[(a != -1).all(axis=1),:]\n",
    "a.shape"
   ]
  },
  {
   "cell_type": "code",
   "execution_count": 8,
   "metadata": {},
   "outputs": [
    {
     "data": {
      "text/plain": [
       "(920, 3)"
      ]
     },
     "execution_count": 8,
     "metadata": {},
     "output_type": "execute_result"
    }
   ],
   "source": [
    "tl=np.array([0,0,0])\n",
    "br=np.array([811,1790,1790])\n",
    "a=np.vstack((a,tl))\n",
    "a=np.vstack((a,br))\n",
    "a.shape"
   ]
  },
  {
   "cell_type": "code",
   "execution_count": null,
   "metadata": {},
   "outputs": [],
   "source": [
    "a=np.vstack((a,loc))"
   ]
  },
  {
   "cell_type": "code",
   "execution_count": 9,
   "metadata": {},
   "outputs": [],
   "source": [
    "%gui qt\n",
    "from skimage import data\n",
    "import napari\n",
    "from skimage.io import imread, imsave\n",
    "import numpy as np "
   ]
  },
  {
   "cell_type": "code",
   "execution_count": 12,
   "metadata": {},
   "outputs": [],
   "source": [
    "napari.gui_qt()\n",
    "viewer = napari.Viewer(ndisplay=3)"
   ]
  },
  {
   "cell_type": "code",
   "execution_count": 18,
   "metadata": {},
   "outputs": [
    {
     "data": {
      "text/plain": [
       "<Points layer 'Points' at 0x1fd0bcc0d0>"
      ]
     },
     "execution_count": 18,
     "metadata": {},
     "output_type": "execute_result"
    }
   ],
   "source": [
    "\n",
    "x=a[:,2]                                                          \n",
    "y=a[:,1]                                                          \n",
    "z=a[:,0]\n",
    "points1=np.stack((z,y,x), axis=-1)\n",
    "viewer.add_points(points1, size=20, face_color='red',edge_color='red')"
   ]
  },
  {
   "cell_type": "code",
   "execution_count": 14,
   "metadata": {},
   "outputs": [
    {
     "data": {
      "text/plain": [
       "<Image layer 'Image' at 0x1e98135090>"
      ]
     },
     "execution_count": 14,
     "metadata": {},
     "output_type": "execute_result"
    }
   ],
   "source": [
    "viewer.add_image(lb.astype('int16'))"
   ]
  },
  {
   "cell_type": "code",
   "execution_count": 13,
   "metadata": {},
   "outputs": [],
   "source": [
    "#Please note that the spot.txt file is in (x,y,z) format\n",
    "#spot_dir='/Users/wangy6/Desktop/CEA265P_R1R12/'\n",
    "#for spot in spot_dir:\n",
    "    #tile=os.path.basename(f)\n",
    "count=pd.read_csv('/Volumes/multifish/Yuhan/LHA3/segmentation/spot/processed/count_lipoRemove.csv',sep=',',header=None)"
   ]
  },
  {
   "cell_type": "code",
   "execution_count": 17,
   "metadata": {},
   "outputs": [
    {
     "data": {
      "text/plain": [
       "<bound method NDFrame.head of           0      1    2       3      4        5     6      7     8    9   \\\n",
       "0      ROI #  Meis2   Th  Gpr101  Gpr83  Slc17a6  BdnF  Calb2  Gal   Otp   \n",
       "1          1     38   13       1     49      166    45    511     0    0   \n",
       "2          2     63    7       0     15        9    12     36     0    0   \n",
       "3          3     68   57       1      0      109    21    550     0    0   \n",
       "4          4     48   41       0      0      113    84     90     0    0   \n",
       "5          5     57    7      26      2       43    34     65     0    0   \n",
       "6          6     66   19       0      0      563    33    131     0    0   \n",
       "7          7     32   19      13      0      220    40    465     0    0   \n",
       "8          8     17    3       7     10      137    31     25    12    0   \n",
       "9          9    106   21       1      1       17    18     50     4    0   \n",
       "10        10     23   34       0    228       60     2    137     0    0   \n",
       "11        11    125   98       0     16       11    13     73     0    0   \n",
       "12        12     48   39       0      0      148     3    438     0    0   \n",
       "13        13      0    0       0      0      143    16      0     0    0   \n",
       "14        14     47   28       0     33      486    18     64    11    0   \n",
       "15        15     34   19       0      0      299    25    422     0    0   \n",
       "16        16     39   46       0    163      107    20     67     0    0   \n",
       "17        17      0    0       0     10       22    21      0     0    0   \n",
       "18        18     60   78       0      0      142    20    434     0    0   \n",
       "19        19     86   16       8      3        9    35     75     0    0   \n",
       "20        20     21   70       0     11       74     0    157     0    0   \n",
       "21        21     67   26       0      0      718    43     67     0    0   \n",
       "22        22      0    0       0      0      240    21      0     0    0   \n",
       "23        23     15   11       0     10       82    39     46     1    0   \n",
       "24        24     28   12       3      0       42    27     70     0    0   \n",
       "25        25    167   48       2      0       36    23    147     0    0   \n",
       "26        26     49   46       0      0      175    12    161     0    0   \n",
       "27        27    116   18       0      0       10     4     54     0    0   \n",
       "28        28     50  154       0     39      329    21     51     0    0   \n",
       "29        29     49   22       9     38      246    28    486     0    0   \n",
       "...      ...    ...  ...     ...    ...      ...   ...    ...   ...  ...   \n",
       "24172  24172      0    1       0      0        2     1      2     0    0   \n",
       "24173  24173      0    0       0      0        0     0      0     0    0   \n",
       "24174  24174     19    1       0      7       32     4     63     0    0   \n",
       "24175  24175      2    1       0      0        0     0      2     0    0   \n",
       "24176  24176      4    2       0      0       13     0     42     0    0   \n",
       "24177  24177      0    0       0      0        1     0     36     0   14   \n",
       "24178  24178      3    2       0      0       20     1     42     0    0   \n",
       "24179  24179     11    0       0      3       15     3     19     0    0   \n",
       "24180  24180      2    1       0      0        4     0      4     0    0   \n",
       "24181  24181      0    0       0      0       49    38      0     0    0   \n",
       "24182  24182      4    0       0      0        2     0      4     1    2   \n",
       "24183  24183      0    1       0      0        3     1      4     0    0   \n",
       "24184  24184      3    3       1      0       12     9     25     0    0   \n",
       "24185  24185      7    0       0      0        5     0      2     0    0   \n",
       "24186  24186      1    0       0      0        3     0      1     0    0   \n",
       "24187  24187      2    0       0      0        2     0      1     0    0   \n",
       "24188  24188      4    0       0      0        1     0      2     0    0   \n",
       "24189  24189      2    0       0      0        3     0     13     0    0   \n",
       "24190  24190      5    1       0      0        1     0      1     0    0   \n",
       "24191  24191     31   16       0      0        1     1     19     0    0   \n",
       "24192  24192     11    0       0      2        7     1     31     0    0   \n",
       "24193  24193      2    0       0      1        4     0      1     0    0   \n",
       "24194  24194      2    2       0      0        0     2      1     1    0   \n",
       "24195  24195      2    1       0      0       13     2     63     0    0   \n",
       "24196  24196      5    0       0      0       14     0      0     0    0   \n",
       "24197  24197      1    0       0      0        0     0      6     0    0   \n",
       "24198  24198      0    0       0      1       10     1      0     0    0   \n",
       "24199  24199      0    0       0      0        1     1      1     0    0   \n",
       "24200  24200      3    0       0      1        0     0      1     0    0   \n",
       "24201  24201      9    2       0      0        1     0      2     0    0   \n",
       "\n",
       "          ...       18    19    20      21    22   23    24         25  \\\n",
       "0         ...      Nts  HCRT  Pmch  Cartpt  VGAT  SST  Nrgn  Meis2-R10   \n",
       "1         ...        4  1417    45       9    29   29     9         36   \n",
       "2         ...        4     2    43      16    51   77    40         50   \n",
       "3         ...        4    12  1775    1053    52   58    17         57   \n",
       "4         ...        3     9  2038    1254    35   61    19         65   \n",
       "5         ...      263    23    39      35   232   59   289         40   \n",
       "6         ...        4    86    80      16    34  277    13         64   \n",
       "7         ...       25  1047    56      21    49   57    26         53   \n",
       "8         ...        8    11    33      12    23   15   163         15   \n",
       "9         ...        4    17    28       4   137   10    46        101   \n",
       "10        ...        1     2  1034     869    22   28     8         15   \n",
       "11        ...        9    12     9       2   164  281    44        117   \n",
       "12        ...        4   980    27      11    25   40     3         31   \n",
       "13        ...      369   140     5       3     0    0     0         17   \n",
       "14        ...        4     1    20       2    23   37     6         42   \n",
       "15        ...        3     6    28       3    18   16     5         21   \n",
       "16        ...        4    17  2380    1654    33   43    27         56   \n",
       "17        ...       92    42    47      57     0    0     0         12   \n",
       "18        ...        5    11  2289    1507    44   54    20         64   \n",
       "19        ...        3     2    42      22   129   24     9         76   \n",
       "20        ...        1     1     2       4    18   44     4         31   \n",
       "21        ...       14    13    59       7    52  422    11         66   \n",
       "22        ...       50    43    41     101     0    0     0        119   \n",
       "23        ...        3     0     5       1     3    5     2         19   \n",
       "24        ...        9    50    63      18   178   29     8         31   \n",
       "25        ...       12    16   129      20   301  171   132        140   \n",
       "26        ...       16  1675    73      16    41   72    19         28   \n",
       "27        ...       12     3    38       7    42   13     5        100   \n",
       "28        ...        1     3    15       2    14  468     5         27   \n",
       "29        ...       13  1663    73       6    31   36    15         47   \n",
       "...       ...      ...   ...   ...     ...   ...  ...   ...        ...   \n",
       "24172     ...        1     0     0       0     2    2     1          0   \n",
       "24173     ...        0     0     0       0     0    0     0          2   \n",
       "24174     ...        0     7     6       2     2   75     0         21   \n",
       "24175     ...        0     0     1       0     0    0     3          2   \n",
       "24176     ...        3     5     4       1     3   28     0          0   \n",
       "24177     ...        0     0     0       0     1    0     0          0   \n",
       "24178     ...        6     0     0       0     1   15     0          1   \n",
       "24179     ...        0     2     0       0     1    1     0          9   \n",
       "24180     ...        1     0     1       0     0    4     0          0   \n",
       "24181     ...        0     0     0       0     0    0     0          0   \n",
       "24182     ...        0     0     0       0     0    2     0          2   \n",
       "24183     ...        0     1     3       0     3    0     0          2   \n",
       "24184     ...        5     1     4       2    25    6     1          7   \n",
       "24185     ...        0     0     3       0     3    2     2          5   \n",
       "24186     ...        0     0     1       0     0    3     0          2   \n",
       "24187     ...        0     0     2       0     0    2     0          1   \n",
       "24188     ...        0     0     0       0     0    0     0          2   \n",
       "24189     ...        0     0     1       1     1    0     0          1   \n",
       "24190     ...        0     0     0       1     1    1     2          1   \n",
       "24191     ...        0     0     0       0    32   27     6         18   \n",
       "24192     ...        0     0     0       0     1    4     0          4   \n",
       "24193     ...        0     1     1       0     3    2     1          1   \n",
       "24194     ...        0     0     0       0     1    2     2          2   \n",
       "24195     ...        3     1     1       0     1    4    25          3   \n",
       "24196     ...        0     0     2       1     2    5     0          7   \n",
       "24197     ...        0     2     4       0     3    0     0          0   \n",
       "24198     ...        0     0     0       0     0    0     0          0   \n",
       "24199     ...       23     1     1       3     1    1    23          0   \n",
       "24200     ...        3     0     1       0     0    3     0          2   \n",
       "24201     ...       36     0    12       0    17    5     5          7   \n",
       "\n",
       "           26          27  \n",
       "0      Th-R10  Gpr101-R10  \n",
       "1          19           4  \n",
       "2           1          10  \n",
       "3          49           8  \n",
       "4          35           6  \n",
       "5          11         121  \n",
       "6          21          14  \n",
       "7          27          33  \n",
       "8           3          28  \n",
       "9           8           7  \n",
       "10         32          13  \n",
       "11        103           3  \n",
       "12         18           6  \n",
       "13          9          86  \n",
       "14         13           6  \n",
       "15          9           6  \n",
       "16         45          16  \n",
       "17          8          14  \n",
       "18         70          10  \n",
       "19          7          16  \n",
       "20         58          25  \n",
       "21         27          34  \n",
       "22         23         114  \n",
       "23          7           2  \n",
       "24         13          37  \n",
       "25         24         173  \n",
       "26         38          14  \n",
       "27         15          24  \n",
       "28        118           9  \n",
       "29         21          17  \n",
       "...       ...         ...  \n",
       "24172       1          34  \n",
       "24173       0           0  \n",
       "24174       0           5  \n",
       "24175       1           0  \n",
       "24176       8           2  \n",
       "24177       1           0  \n",
       "24178       0           0  \n",
       "24179       0           1  \n",
       "24180       0           0  \n",
       "24181       0           0  \n",
       "24182       0           0  \n",
       "24183       1           0  \n",
       "24184       0          28  \n",
       "24185       1           1  \n",
       "24186       1           0  \n",
       "24187       0           0  \n",
       "24188       0           0  \n",
       "24189       2           0  \n",
       "24190       0           0  \n",
       "24191      12           1  \n",
       "24192       0           5  \n",
       "24193       0           0  \n",
       "24194       1           0  \n",
       "24195       0           3  \n",
       "24196       1           0  \n",
       "24197       1           1  \n",
       "24198       0           0  \n",
       "24199       1          33  \n",
       "24200       0           0  \n",
       "24201       0          79  \n",
       "\n",
       "[24202 rows x 28 columns]>"
      ]
     },
     "execution_count": 17,
     "metadata": {},
     "output_type": "execute_result"
    }
   ],
   "source": [
    "count.head"
   ]
  },
  {
   "cell_type": "code",
   "execution_count": 117,
   "metadata": {},
   "outputs": [],
   "source": [
    "np.savetxt('/Volumes/multifish/Yuhan/LHA3/segmentation/spot/R3_c3.txt', spot)"
   ]
  },
  {
   "cell_type": "code",
   "execution_count": 4,
   "metadata": {},
   "outputs": [],
   "source": [
    "df = pd.DataFrame(np.empty([roi, 3]), columns=['roi','cetroid_position', 'area'],dtype=object)\n",
    "lb_stat = regionprops(lb)\n",
    "for i in range(0,roi): \n",
    "    df.loc[df.index[i], 'roi'] = i+1\n",
    "    df.loc[df.index[i], 'cetroid_position'] = lb_stat[i].centroid\n",
    "    df.loc[df.index[i], 'area'] = lb_stat[i].area\n",
    "    #df.loc[df.index[j], 'shape'] = lb_stat[i].eccentricity\n",
    "df.to_csv(\"/Volumes/multifish/Yuhan/LHA3/segmentation/segment/roi.csv\", index=False)"
   ]
  },
  {
   "cell_type": "code",
   "execution_count": 5,
   "metadata": {},
   "outputs": [
    {
     "data": {
      "text/plain": [
       "pandas.core.series.Series"
      ]
     },
     "execution_count": 5,
     "metadata": {},
     "output_type": "execute_result"
    }
   ],
   "source": [
    "lable=np.empty(roi,2)\n",
    "for i in range(0,roi): \n",
    "    label(i,0) = i+1\n",
    "    label(i,1) = lb_stat[i].centroid\n",
    "    if "
   ]
  },
  {
   "cell_type": "code",
   "execution_count": null,
   "metadata": {},
   "outputs": [],
   "source": [
    "df['cetroid_position']head"
   ]
  },
  {
   "cell_type": "code",
   "execution_count": null,
   "metadata": {},
   "outputs": [],
   "source": [
    "lb=\n",
    "ub\n",
    "df['roi'][df['cetroid_position'] == 'Apples']"
   ]
  },
  {
   "cell_type": "code",
   "execution_count": null,
   "metadata": {},
   "outputs": [],
   "source": [
    "spot=np.loadtxt(\"/Volumes/multifish/Yuhan/LHA3/segmentation/spot/processed/count_lipoRemove.csv\")"
   ]
  },
  {
   "cell_type": "code",
   "execution_count": 107,
   "metadata": {},
   "outputs": [],
   "source": [
    "def spot_count(spot, lb, vox):\n",
    "    spot[:, :3] = spot[:, :3] / scale\n",
    "    spot=spot[spot[:,0]<=grid[0]]\n",
    "    spot=spot[spot[:,1]<=grid[1]]\n",
    "    spot=spot[spot[:,2]<=grid[2]]\n",
    "    spot=spot[spot[:,0]>=0]\n",
    "    spot=spot[spot[:,1]>=0]\n",
    "    spot=spot[spot[:,2]>=0]\n",
    "    spot=spot[spot[:,3]>0]\n",
    "    spot=np.round(spot).astype(int)\n",
    "    num_spot=len(spot[:,])\n",
    "    roi = np.max(lb)\n",
    "    count=np.zeros((num_spot+1,1))\n",
    "    output = list()\n",
    "    for i in range(0,num_spot):\n",
    "        idx=lb[spot[i,2],spot[i,1],spot[i,0]]\n",
    "        if idx >0: \n",
    "            count[idx,1] = count[idx,1]+1\n",
    "            out=spot[i,4]\n",
    "            output.append(out)\n",
    "    return count, output"
   ]
  },
  {
   "cell_type": "code",
   "execution_count": 74,
   "metadata": {},
   "outputs": [],
   "source": [
    "spot[:, :3] = spot[:, :3] / scale"
   ]
  },
  {
   "cell_type": "code",
   "execution_count": 108,
   "metadata": {},
   "outputs": [
    {
     "ename": "IndexError",
     "evalue": "index 1 is out of bounds for axis 1 with size 1",
     "output_type": "error",
     "traceback": [
      "\u001b[0;31m---------------------------------------------------------------------------\u001b[0m",
      "\u001b[0;31mIndexError\u001b[0m                                Traceback (most recent call last)",
      "\u001b[0;32m<ipython-input-108-a56611b83504>\u001b[0m in \u001b[0;36m<module>\u001b[0;34m\u001b[0m\n\u001b[0;32m----> 1\u001b[0;31m \u001b[0mspot_count\u001b[0m\u001b[0;34m(\u001b[0m\u001b[0mspot\u001b[0m\u001b[0;34m,\u001b[0m \u001b[0mlb\u001b[0m\u001b[0;34m,\u001b[0m \u001b[0mvox\u001b[0m\u001b[0;34m)\u001b[0m\u001b[0;34m\u001b[0m\u001b[0;34m\u001b[0m\u001b[0m\n\u001b[0m",
      "\u001b[0;32m<ipython-input-107-80368eb7bf8c>\u001b[0m in \u001b[0;36mspot_count\u001b[0;34m(spot, lb, vox)\u001b[0m\n\u001b[1;32m     16\u001b[0m         \u001b[0midx\u001b[0m\u001b[0;34m=\u001b[0m\u001b[0mlb\u001b[0m\u001b[0;34m[\u001b[0m\u001b[0mspot\u001b[0m\u001b[0;34m[\u001b[0m\u001b[0mi\u001b[0m\u001b[0;34m,\u001b[0m\u001b[0;36m2\u001b[0m\u001b[0;34m]\u001b[0m\u001b[0;34m,\u001b[0m\u001b[0mspot\u001b[0m\u001b[0;34m[\u001b[0m\u001b[0mi\u001b[0m\u001b[0;34m,\u001b[0m\u001b[0;36m1\u001b[0m\u001b[0;34m]\u001b[0m\u001b[0;34m,\u001b[0m\u001b[0mspot\u001b[0m\u001b[0;34m[\u001b[0m\u001b[0mi\u001b[0m\u001b[0;34m,\u001b[0m\u001b[0;36m0\u001b[0m\u001b[0;34m]\u001b[0m\u001b[0;34m]\u001b[0m\u001b[0;34m\u001b[0m\u001b[0;34m\u001b[0m\u001b[0m\n\u001b[1;32m     17\u001b[0m         \u001b[0;32mif\u001b[0m \u001b[0midx\u001b[0m \u001b[0;34m>\u001b[0m\u001b[0;36m0\u001b[0m\u001b[0;34m:\u001b[0m\u001b[0;34m\u001b[0m\u001b[0;34m\u001b[0m\u001b[0m\n\u001b[0;32m---> 18\u001b[0;31m             \u001b[0mcount\u001b[0m\u001b[0;34m[\u001b[0m\u001b[0midx\u001b[0m\u001b[0;34m,\u001b[0m\u001b[0;36m1\u001b[0m\u001b[0;34m]\u001b[0m \u001b[0;34m=\u001b[0m \u001b[0mcount\u001b[0m\u001b[0;34m[\u001b[0m\u001b[0midx\u001b[0m\u001b[0;34m,\u001b[0m\u001b[0;36m1\u001b[0m\u001b[0;34m]\u001b[0m\u001b[0;34m+\u001b[0m\u001b[0;36m1\u001b[0m\u001b[0;34m\u001b[0m\u001b[0;34m\u001b[0m\u001b[0m\n\u001b[0m\u001b[1;32m     19\u001b[0m             \u001b[0mout\u001b[0m\u001b[0;34m=\u001b[0m\u001b[0mspot\u001b[0m\u001b[0;34m[\u001b[0m\u001b[0mi\u001b[0m\u001b[0;34m,\u001b[0m\u001b[0;36m4\u001b[0m\u001b[0;34m]\u001b[0m\u001b[0;34m\u001b[0m\u001b[0;34m\u001b[0m\u001b[0m\n\u001b[1;32m     20\u001b[0m             \u001b[0moutput\u001b[0m\u001b[0;34m.\u001b[0m\u001b[0mappend\u001b[0m\u001b[0;34m(\u001b[0m\u001b[0mout\u001b[0m\u001b[0;34m)\u001b[0m\u001b[0;34m\u001b[0m\u001b[0;34m\u001b[0m\u001b[0m\n",
      "\u001b[0;31mIndexError\u001b[0m: index 1 is out of bounds for axis 1 with size 1"
     ]
    }
   ],
   "source": [
    "spot_count(spot, lb, vox)"
   ]
  },
  {
   "cell_type": "code",
   "execution_count": 101,
   "metadata": {},
   "outputs": [],
   "source": [
    "spot=np.round(spot,decimals=0)"
   ]
  },
  {
   "cell_type": "code",
   "execution_count": 104,
   "metadata": {},
   "outputs": [
    {
     "data": {
      "text/plain": [
       "127"
      ]
     },
     "execution_count": 104,
     "metadata": {},
     "output_type": "execute_result"
    }
   ],
   "source": [
    "spot[11,2]"
   ]
  },
  {
   "cell_type": "code",
   "execution_count": 78,
   "metadata": {},
   "outputs": [
    {
     "data": {
      "text/plain": [
       "164417.0"
      ]
     },
     "execution_count": 78,
     "metadata": {},
     "output_type": "execute_result"
    }
   ],
   "source": [
    "np.max(spot)"
   ]
  },
  {
   "cell_type": "code",
   "execution_count": 60,
   "metadata": {},
   "outputs": [],
   "source": [
    "spot[:, :3] = spot[:, :3] / scale"
   ]
  },
  {
   "cell_type": "code",
   "execution_count": 68,
   "metadata": {},
   "outputs": [],
   "source": [
    "scale=np.array((4,4,2))"
   ]
  },
  {
   "cell_type": "code",
   "execution_count": 51,
   "metadata": {},
   "outputs": [
    {
     "data": {
      "text/plain": [
       "173.226365"
      ]
     },
     "execution_count": 51,
     "metadata": {},
     "output_type": "execute_result"
    }
   ],
   "source": [
    "max(spot[:,2])"
   ]
  },
  {
   "cell_type": "code",
   "execution_count": 20,
   "metadata": {},
   "outputs": [
    {
     "data": {
      "text/plain": [
       "296"
      ]
     },
     "execution_count": 20,
     "metadata": {},
     "output_type": "execute_result"
    }
   ],
   "source": [
    "int(spot[3,0])"
   ]
  },
  {
   "cell_type": "code",
   "execution_count": 53,
   "metadata": {},
   "outputs": [],
   "source": [
    "spot=np.round(spot)"
   ]
  },
  {
   "cell_type": "code",
   "execution_count": 58,
   "metadata": {},
   "outputs": [],
   "source": [
    "num_spot=len(spot[:,])\n",
    "count=np.zeros((num_spot,1))"
   ]
  },
  {
   "cell_type": "code",
   "execution_count": 54,
   "metadata": {},
   "outputs": [
    {
     "data": {
      "text/plain": [
       "80"
      ]
     },
     "execution_count": 54,
     "metadata": {},
     "output_type": "execute_result"
    }
   ],
   "source": [
    "lb[int(spot[3,2]),int(spot[3,1]),int(spot[3,0])]"
   ]
  },
  {
   "cell_type": "code",
   "execution_count": 8,
   "metadata": {},
   "outputs": [
    {
     "ename": "TypeError",
     "evalue": "type numpy.ndarray doesn't define __round__ method",
     "output_type": "error",
     "traceback": [
      "\u001b[0;31m---------------------------------------------------------------------------\u001b[0m",
      "\u001b[0;31mTypeError\u001b[0m                                 Traceback (most recent call last)",
      "\u001b[0;32m<ipython-input-8-dcca36e4a5f9>\u001b[0m in \u001b[0;36m<module>\u001b[0;34m\u001b[0m\n\u001b[0;32m----> 1\u001b[0;31m \u001b[0mspot\u001b[0m\u001b[0;34m[\u001b[0m\u001b[0;34m:\u001b[0m\u001b[0;34m,\u001b[0m\u001b[0;34m:\u001b[0m\u001b[0;36m4\u001b[0m\u001b[0;34m]\u001b[0m\u001b[0;34m=\u001b[0m\u001b[0mround\u001b[0m\u001b[0;34m(\u001b[0m\u001b[0mspot\u001b[0m\u001b[0;34m[\u001b[0m\u001b[0;34m:\u001b[0m\u001b[0;34m,\u001b[0m\u001b[0;34m:\u001b[0m\u001b[0;36m4\u001b[0m\u001b[0;34m]\u001b[0m\u001b[0;34m)\u001b[0m\u001b[0;34m\u001b[0m\u001b[0;34m\u001b[0m\u001b[0m\n\u001b[0m",
      "\u001b[0;31mTypeError\u001b[0m: type numpy.ndarray doesn't define __round__ method"
     ]
    }
   ],
   "source": []
  },
  {
   "cell_type": "code",
   "execution_count": 76,
   "metadata": {},
   "outputs": [],
   "source": [
    "def spot_count(i):\n",
    "    count = np.count_nonzero(img_spot[lb==i+1])\n",
    "    spot_id=np.unique(np.trim_zeros(img_spot[lb==i+1]))\n",
    "    return i, count, spot_id"
   ]
  },
  {
   "cell_type": "code",
   "execution_count": 1,
   "metadata": {},
   "outputs": [
    {
     "ename": "NameError",
     "evalue": "name 'glob' is not defined",
     "output_type": "error",
     "traceback": [
      "\u001b[0;31m---------------------------------------------------------------------------\u001b[0m",
      "\u001b[0;31mNameError\u001b[0m                                 Traceback (most recent call last)",
      "\u001b[0;32m<ipython-input-1-7f17a94ca607>\u001b[0m in \u001b[0;36m<module>\u001b[0;34m\u001b[0m\n\u001b[0;32m----> 1\u001b[0;31m \u001b[0mfx\u001b[0m\u001b[0;34m=\u001b[0m\u001b[0msorted\u001b[0m\u001b[0;34m(\u001b[0m\u001b[0mglob\u001b[0m\u001b[0;34m(\u001b[0m\u001b[0;34m\"/Volumes/multifish/Yuhan/LHA3/segmentation/spot/R4_c0.txt\"\u001b[0m\u001b[0;34m)\u001b[0m\u001b[0;34m)\u001b[0m\u001b[0;34m\u001b[0m\u001b[0;34m\u001b[0m\u001b[0m\n\u001b[0m\u001b[1;32m      2\u001b[0m \u001b[0;32mfor\u001b[0m \u001b[0mf\u001b[0m \u001b[0;32min\u001b[0m \u001b[0mfx\u001b[0m\u001b[0;34m:\u001b[0m\u001b[0;34m\u001b[0m\u001b[0;34m\u001b[0m\u001b[0m\n\u001b[1;32m      3\u001b[0m     \u001b[0mtile\u001b[0m\u001b[0;34m=\u001b[0m\u001b[0mos\u001b[0m\u001b[0;34m.\u001b[0m\u001b[0mpath\u001b[0m\u001b[0;34m.\u001b[0m\u001b[0mbasename\u001b[0m\u001b[0;34m(\u001b[0m\u001b[0mf\u001b[0m\u001b[0;34m)\u001b[0m\u001b[0;34m\u001b[0m\u001b[0;34m\u001b[0m\u001b[0m\n\u001b[1;32m      4\u001b[0m     \u001b[0mname\u001b[0m\u001b[0;34m=\u001b[0m\u001b[0mtile\u001b[0m\u001b[0;34m.\u001b[0m\u001b[0msplit\u001b[0m\u001b[0;34m(\u001b[0m\u001b[0;34m'.'\u001b[0m\u001b[0;34m)\u001b[0m\u001b[0;34m[\u001b[0m\u001b[0;36m0\u001b[0m\u001b[0;34m]\u001b[0m\u001b[0;34m\u001b[0m\u001b[0;34m\u001b[0m\u001b[0m\n\u001b[1;32m      5\u001b[0m     \u001b[0mcol1\u001b[0m\u001b[0;34m=\u001b[0m\u001b[0mname\u001b[0m \u001b[0;34m+\u001b[0m\u001b[0;34m'_'\u001b[0m \u001b[0;34m+\u001b[0m\u001b[0;34m'spot_count'\u001b[0m\u001b[0;34m\u001b[0m\u001b[0;34m\u001b[0m\u001b[0m\n",
      "\u001b[0;31mNameError\u001b[0m: name 'glob' is not defined"
     ]
    }
   ],
   "source": [
    "fx=sorted(glob(\"/Volumes/multifish/Yuhan/LHA3/segmentation/spot/R4_c0.txt\"))\n",
    "for f in fx:\n",
    "    tile=os.path.basename(f)\n",
    "    name=tile.split('.')[0]\n",
    "    col1=name +'_' +'spot_count'\n",
    "    col2=name +'_'+'spot_id'\n",
    "    print(f)\n",
    "    spot=np.loadtxt(f)\n",
    "    #df_f = pd.DataFrame(np.empty([roi, 2]), columns=[col1, col2],dtype=object)\n",
    "    \n",
    "    img_spot=point2image(spot,lb,vox)\n",
    "    print(img_spot.shape)"
   ]
  },
  {
   "cell_type": "code",
   "execution_count": 74,
   "metadata": {},
   "outputs": [
    {
     "ename": "KeyboardInterrupt",
     "evalue": "",
     "output_type": "error",
     "traceback": [
      "\u001b[0;31m---------------------------------------------------------------------------\u001b[0m",
      "\u001b[0;31mKeyboardInterrupt\u001b[0m                         Traceback (most recent call last)",
      "\u001b[0;32m/anaconda3/lib/python3.7/concurrent/futures/_base.py\u001b[0m in \u001b[0;36mresult_iterator\u001b[0;34m()\u001b[0m\n\u001b[1;32m    585\u001b[0m                     \u001b[0;32mif\u001b[0m \u001b[0mtimeout\u001b[0m \u001b[0;32mis\u001b[0m \u001b[0;32mNone\u001b[0m\u001b[0;34m:\u001b[0m\u001b[0;34m\u001b[0m\u001b[0;34m\u001b[0m\u001b[0m\n\u001b[0;32m--> 586\u001b[0;31m                         \u001b[0;32myield\u001b[0m \u001b[0mfs\u001b[0m\u001b[0;34m.\u001b[0m\u001b[0mpop\u001b[0m\u001b[0;34m(\u001b[0m\u001b[0;34m)\u001b[0m\u001b[0;34m.\u001b[0m\u001b[0mresult\u001b[0m\u001b[0;34m(\u001b[0m\u001b[0;34m)\u001b[0m\u001b[0;34m\u001b[0m\u001b[0;34m\u001b[0m\u001b[0m\n\u001b[0m\u001b[1;32m    587\u001b[0m                     \u001b[0;32melse\u001b[0m\u001b[0;34m:\u001b[0m\u001b[0;34m\u001b[0m\u001b[0;34m\u001b[0m\u001b[0m\n",
      "\u001b[0;32m/anaconda3/lib/python3.7/concurrent/futures/_base.py\u001b[0m in \u001b[0;36mresult\u001b[0;34m(self, timeout)\u001b[0m\n\u001b[1;32m    426\u001b[0m \u001b[0;34m\u001b[0m\u001b[0m\n\u001b[0;32m--> 427\u001b[0;31m             \u001b[0mself\u001b[0m\u001b[0;34m.\u001b[0m\u001b[0m_condition\u001b[0m\u001b[0;34m.\u001b[0m\u001b[0mwait\u001b[0m\u001b[0;34m(\u001b[0m\u001b[0mtimeout\u001b[0m\u001b[0;34m)\u001b[0m\u001b[0;34m\u001b[0m\u001b[0;34m\u001b[0m\u001b[0m\n\u001b[0m\u001b[1;32m    428\u001b[0m \u001b[0;34m\u001b[0m\u001b[0m\n",
      "\u001b[0;32m/anaconda3/lib/python3.7/threading.py\u001b[0m in \u001b[0;36mwait\u001b[0;34m(self, timeout)\u001b[0m\n\u001b[1;32m    295\u001b[0m             \u001b[0;32mif\u001b[0m \u001b[0mtimeout\u001b[0m \u001b[0;32mis\u001b[0m \u001b[0;32mNone\u001b[0m\u001b[0;34m:\u001b[0m\u001b[0;34m\u001b[0m\u001b[0;34m\u001b[0m\u001b[0m\n\u001b[0;32m--> 296\u001b[0;31m                 \u001b[0mwaiter\u001b[0m\u001b[0;34m.\u001b[0m\u001b[0macquire\u001b[0m\u001b[0;34m(\u001b[0m\u001b[0;34m)\u001b[0m\u001b[0;34m\u001b[0m\u001b[0;34m\u001b[0m\u001b[0m\n\u001b[0m\u001b[1;32m    297\u001b[0m                 \u001b[0mgotit\u001b[0m \u001b[0;34m=\u001b[0m \u001b[0;32mTrue\u001b[0m\u001b[0;34m\u001b[0m\u001b[0;34m\u001b[0m\u001b[0m\n",
      "\u001b[0;31mKeyboardInterrupt\u001b[0m: ",
      "\nDuring handling of the above exception, another exception occurred:\n",
      "\u001b[0;31mKeyboardInterrupt\u001b[0m                         Traceback (most recent call last)",
      "\u001b[0;32m<ipython-input-74-e36382210417>\u001b[0m in \u001b[0;36m<module>\u001b[0;34m\u001b[0m\n\u001b[1;32m      5\u001b[0m \u001b[0;32mwith\u001b[0m \u001b[0mconcurrent\u001b[0m\u001b[0;34m.\u001b[0m\u001b[0mfutures\u001b[0m\u001b[0;34m.\u001b[0m\u001b[0mThreadPoolExecutor\u001b[0m\u001b[0;34m(\u001b[0m\u001b[0;34m)\u001b[0m \u001b[0;32mas\u001b[0m \u001b[0mexecutor\u001b[0m\u001b[0;34m:\u001b[0m\u001b[0;34m\u001b[0m\u001b[0;34m\u001b[0m\u001b[0m\n\u001b[0;32m----> 6\u001b[0;31m         \u001b[0;32mfor\u001b[0m \u001b[0mout1\u001b[0m\u001b[0;34m,\u001b[0m \u001b[0mout2\u001b[0m\u001b[0;34m,\u001b[0m \u001b[0mout3\u001b[0m \u001b[0;32min\u001b[0m \u001b[0mexecutor\u001b[0m\u001b[0;34m.\u001b[0m\u001b[0mmap\u001b[0m\u001b[0;34m(\u001b[0m\u001b[0mspot_count\u001b[0m\u001b[0;34m,\u001b[0m \u001b[0mrange\u001b[0m\u001b[0;34m(\u001b[0m\u001b[0;36m0\u001b[0m\u001b[0;34m,\u001b[0m \u001b[0mroi\u001b[0m\u001b[0;34m)\u001b[0m\u001b[0;34m)\u001b[0m\u001b[0;34m:\u001b[0m\u001b[0;34m\u001b[0m\u001b[0;34m\u001b[0m\u001b[0m\n\u001b[0m\u001b[1;32m      7\u001b[0m             \u001b[0;31m# put results into correct output list\u001b[0m\u001b[0;34m\u001b[0m\u001b[0;34m\u001b[0m\u001b[0;34m\u001b[0m\u001b[0m\n",
      "\u001b[0;32m/anaconda3/lib/python3.7/concurrent/futures/_base.py\u001b[0m in \u001b[0;36mresult_iterator\u001b[0;34m()\u001b[0m\n\u001b[1;32m    590\u001b[0m                 \u001b[0;32mfor\u001b[0m \u001b[0mfuture\u001b[0m \u001b[0;32min\u001b[0m \u001b[0mfs\u001b[0m\u001b[0;34m:\u001b[0m\u001b[0;34m\u001b[0m\u001b[0;34m\u001b[0m\u001b[0m\n\u001b[0;32m--> 591\u001b[0;31m                     \u001b[0mfuture\u001b[0m\u001b[0;34m.\u001b[0m\u001b[0mcancel\u001b[0m\u001b[0;34m(\u001b[0m\u001b[0;34m)\u001b[0m\u001b[0;34m\u001b[0m\u001b[0;34m\u001b[0m\u001b[0m\n\u001b[0m\u001b[1;32m    592\u001b[0m         \u001b[0;32mreturn\u001b[0m \u001b[0mresult_iterator\u001b[0m\u001b[0;34m(\u001b[0m\u001b[0;34m)\u001b[0m\u001b[0;34m\u001b[0m\u001b[0;34m\u001b[0m\u001b[0m\n",
      "\u001b[0;31mKeyboardInterrupt\u001b[0m: ",
      "\nDuring handling of the above exception, another exception occurred:\n",
      "\u001b[0;31mKeyboardInterrupt\u001b[0m                         Traceback (most recent call last)",
      "\u001b[0;32m<ipython-input-74-e36382210417>\u001b[0m in \u001b[0;36m<module>\u001b[0;34m\u001b[0m\n\u001b[1;32m      8\u001b[0m             \u001b[0moutput1\u001b[0m\u001b[0;34m.\u001b[0m\u001b[0mappend\u001b[0m\u001b[0;34m(\u001b[0m\u001b[0mout1\u001b[0m\u001b[0;34m)\u001b[0m\u001b[0;34m\u001b[0m\u001b[0;34m\u001b[0m\u001b[0m\n\u001b[1;32m      9\u001b[0m             \u001b[0moutput2\u001b[0m\u001b[0;34m.\u001b[0m\u001b[0mappend\u001b[0m\u001b[0;34m(\u001b[0m\u001b[0mout2\u001b[0m\u001b[0;34m)\u001b[0m\u001b[0;34m\u001b[0m\u001b[0;34m\u001b[0m\u001b[0m\n\u001b[0;32m---> 10\u001b[0;31m             \u001b[0moutput3\u001b[0m\u001b[0;34m.\u001b[0m\u001b[0mappend\u001b[0m\u001b[0;34m(\u001b[0m\u001b[0mout3\u001b[0m\u001b[0;34m)\u001b[0m\u001b[0;34m\u001b[0m\u001b[0;34m\u001b[0m\u001b[0m\n\u001b[0m\u001b[1;32m     11\u001b[0m \u001b[0moutput\u001b[0m\u001b[0;34m=\u001b[0m\u001b[0mnp\u001b[0m\u001b[0;34m.\u001b[0m\u001b[0mdstack\u001b[0m\u001b[0;34m(\u001b[0m\u001b[0;34m(\u001b[0m\u001b[0moutput1\u001b[0m\u001b[0;34m,\u001b[0m \u001b[0moutput2\u001b[0m\u001b[0;34m,\u001b[0m \u001b[0moutput3\u001b[0m\u001b[0;34m)\u001b[0m\u001b[0;34m)\u001b[0m\u001b[0;34m\u001b[0m\u001b[0;34m\u001b[0m\u001b[0m\n\u001b[1;32m     12\u001b[0m \u001b[0mcount\u001b[0m\u001b[0;34m=\u001b[0m\u001b[0mpd\u001b[0m\u001b[0;34m.\u001b[0m\u001b[0mDataFrame\u001b[0m\u001b[0;34m(\u001b[0m\u001b[0moutput\u001b[0m\u001b[0;34m[\u001b[0m\u001b[0;36m0\u001b[0m\u001b[0;34m,\u001b[0m\u001b[0;34m:\u001b[0m\u001b[0;34m]\u001b[0m\u001b[0;34m,\u001b[0m \u001b[0mcolumns\u001b[0m\u001b[0;34m=\u001b[0m\u001b[0;34m[\u001b[0m\u001b[0;34m'roi'\u001b[0m\u001b[0;34m,\u001b[0m\u001b[0mcol1\u001b[0m\u001b[0;34m,\u001b[0m\u001b[0mcol2\u001b[0m\u001b[0;34m]\u001b[0m\u001b[0;34m,\u001b[0m\u001b[0mdtype\u001b[0m\u001b[0;34m=\u001b[0m\u001b[0mobject\u001b[0m\u001b[0;34m)\u001b[0m\u001b[0;34m\u001b[0m\u001b[0;34m\u001b[0m\u001b[0m\n",
      "\u001b[0;32m/anaconda3/lib/python3.7/concurrent/futures/_base.py\u001b[0m in \u001b[0;36m__exit__\u001b[0;34m(self, exc_type, exc_val, exc_tb)\u001b[0m\n\u001b[1;32m    609\u001b[0m \u001b[0;34m\u001b[0m\u001b[0m\n\u001b[1;32m    610\u001b[0m     \u001b[0;32mdef\u001b[0m \u001b[0m__exit__\u001b[0m\u001b[0;34m(\u001b[0m\u001b[0mself\u001b[0m\u001b[0;34m,\u001b[0m \u001b[0mexc_type\u001b[0m\u001b[0;34m,\u001b[0m \u001b[0mexc_val\u001b[0m\u001b[0;34m,\u001b[0m \u001b[0mexc_tb\u001b[0m\u001b[0;34m)\u001b[0m\u001b[0;34m:\u001b[0m\u001b[0;34m\u001b[0m\u001b[0;34m\u001b[0m\u001b[0m\n\u001b[0;32m--> 611\u001b[0;31m         \u001b[0mself\u001b[0m\u001b[0;34m.\u001b[0m\u001b[0mshutdown\u001b[0m\u001b[0;34m(\u001b[0m\u001b[0mwait\u001b[0m\u001b[0;34m=\u001b[0m\u001b[0;32mTrue\u001b[0m\u001b[0;34m)\u001b[0m\u001b[0;34m\u001b[0m\u001b[0;34m\u001b[0m\u001b[0m\n\u001b[0m\u001b[1;32m    612\u001b[0m         \u001b[0;32mreturn\u001b[0m \u001b[0;32mFalse\u001b[0m\u001b[0;34m\u001b[0m\u001b[0;34m\u001b[0m\u001b[0m\n\u001b[1;32m    613\u001b[0m \u001b[0;34m\u001b[0m\u001b[0m\n",
      "\u001b[0;32m/anaconda3/lib/python3.7/concurrent/futures/thread.py\u001b[0m in \u001b[0;36mshutdown\u001b[0;34m(self, wait)\u001b[0m\n\u001b[1;32m    202\u001b[0m         \u001b[0;32mif\u001b[0m \u001b[0mwait\u001b[0m\u001b[0;34m:\u001b[0m\u001b[0;34m\u001b[0m\u001b[0;34m\u001b[0m\u001b[0m\n\u001b[1;32m    203\u001b[0m             \u001b[0;32mfor\u001b[0m \u001b[0mt\u001b[0m \u001b[0;32min\u001b[0m \u001b[0mself\u001b[0m\u001b[0;34m.\u001b[0m\u001b[0m_threads\u001b[0m\u001b[0;34m:\u001b[0m\u001b[0;34m\u001b[0m\u001b[0;34m\u001b[0m\u001b[0m\n\u001b[0;32m--> 204\u001b[0;31m                 \u001b[0mt\u001b[0m\u001b[0;34m.\u001b[0m\u001b[0mjoin\u001b[0m\u001b[0;34m(\u001b[0m\u001b[0;34m)\u001b[0m\u001b[0;34m\u001b[0m\u001b[0;34m\u001b[0m\u001b[0m\n\u001b[0m\u001b[1;32m    205\u001b[0m     \u001b[0mshutdown\u001b[0m\u001b[0;34m.\u001b[0m\u001b[0m__doc__\u001b[0m \u001b[0;34m=\u001b[0m \u001b[0m_base\u001b[0m\u001b[0;34m.\u001b[0m\u001b[0mExecutor\u001b[0m\u001b[0;34m.\u001b[0m\u001b[0mshutdown\u001b[0m\u001b[0;34m.\u001b[0m\u001b[0m__doc__\u001b[0m\u001b[0;34m\u001b[0m\u001b[0;34m\u001b[0m\u001b[0m\n",
      "\u001b[0;32m/anaconda3/lib/python3.7/threading.py\u001b[0m in \u001b[0;36mjoin\u001b[0;34m(self, timeout)\u001b[0m\n\u001b[1;32m   1030\u001b[0m \u001b[0;34m\u001b[0m\u001b[0m\n\u001b[1;32m   1031\u001b[0m         \u001b[0;32mif\u001b[0m \u001b[0mtimeout\u001b[0m \u001b[0;32mis\u001b[0m \u001b[0;32mNone\u001b[0m\u001b[0;34m:\u001b[0m\u001b[0;34m\u001b[0m\u001b[0;34m\u001b[0m\u001b[0m\n\u001b[0;32m-> 1032\u001b[0;31m             \u001b[0mself\u001b[0m\u001b[0;34m.\u001b[0m\u001b[0m_wait_for_tstate_lock\u001b[0m\u001b[0;34m(\u001b[0m\u001b[0;34m)\u001b[0m\u001b[0;34m\u001b[0m\u001b[0;34m\u001b[0m\u001b[0m\n\u001b[0m\u001b[1;32m   1033\u001b[0m         \u001b[0;32melse\u001b[0m\u001b[0;34m:\u001b[0m\u001b[0;34m\u001b[0m\u001b[0;34m\u001b[0m\u001b[0m\n\u001b[1;32m   1034\u001b[0m             \u001b[0;31m# the behavior of a negative timeout isn't documented, but\u001b[0m\u001b[0;34m\u001b[0m\u001b[0;34m\u001b[0m\u001b[0;34m\u001b[0m\u001b[0m\n",
      "\u001b[0;32m/anaconda3/lib/python3.7/threading.py\u001b[0m in \u001b[0;36m_wait_for_tstate_lock\u001b[0;34m(self, block, timeout)\u001b[0m\n\u001b[1;32m   1046\u001b[0m         \u001b[0;32mif\u001b[0m \u001b[0mlock\u001b[0m \u001b[0;32mis\u001b[0m \u001b[0;32mNone\u001b[0m\u001b[0;34m:\u001b[0m  \u001b[0;31m# already determined that the C code is done\u001b[0m\u001b[0;34m\u001b[0m\u001b[0;34m\u001b[0m\u001b[0m\n\u001b[1;32m   1047\u001b[0m             \u001b[0;32massert\u001b[0m \u001b[0mself\u001b[0m\u001b[0;34m.\u001b[0m\u001b[0m_is_stopped\u001b[0m\u001b[0;34m\u001b[0m\u001b[0;34m\u001b[0m\u001b[0m\n\u001b[0;32m-> 1048\u001b[0;31m         \u001b[0;32melif\u001b[0m \u001b[0mlock\u001b[0m\u001b[0;34m.\u001b[0m\u001b[0macquire\u001b[0m\u001b[0;34m(\u001b[0m\u001b[0mblock\u001b[0m\u001b[0;34m,\u001b[0m \u001b[0mtimeout\u001b[0m\u001b[0;34m)\u001b[0m\u001b[0;34m:\u001b[0m\u001b[0;34m\u001b[0m\u001b[0;34m\u001b[0m\u001b[0m\n\u001b[0m\u001b[1;32m   1049\u001b[0m             \u001b[0mlock\u001b[0m\u001b[0;34m.\u001b[0m\u001b[0mrelease\u001b[0m\u001b[0;34m(\u001b[0m\u001b[0;34m)\u001b[0m\u001b[0;34m\u001b[0m\u001b[0;34m\u001b[0m\u001b[0m\n\u001b[1;32m   1050\u001b[0m             \u001b[0mself\u001b[0m\u001b[0;34m.\u001b[0m\u001b[0m_stop\u001b[0m\u001b[0;34m(\u001b[0m\u001b[0;34m)\u001b[0m\u001b[0;34m\u001b[0m\u001b[0;34m\u001b[0m\u001b[0m\n",
      "\u001b[0;31mKeyboardInterrupt\u001b[0m: "
     ]
    }
   ],
   "source": [
    "output1 = list()\n",
    "output2 = list()\n",
    "output3 = list()\n",
    "#multithread##\n",
    "with concurrent.futures.ThreadPoolExecutor() as executor:\n",
    "        for out1, out2, out3 in executor.map(spot_count, range(0, roi)):\n",
    "            # put results into correct output list\n",
    "            output1.append(out1)\n",
    "            output2.append(out2)\n",
    "            output3.append(out3)\n",
    "output=np.dstack((output1, output2, output3))\n",
    "count=pd.DataFrame(output[0,:], columns=['roi',col1,col2],dtype=object)"
   ]
  },
  {
   "cell_type": "code",
   "execution_count": 52,
   "metadata": {},
   "outputs": [],
   "source": [
    "spot_r3=np.loadtxt(\"/Volumes/multifish/Yuhan/LHA3/segmentation/spot_r3/R3_c0.txt\", delimiter=',')"
   ]
  },
  {
   "cell_type": "code",
   "execution_count": null,
   "metadata": {},
   "outputs": [],
   "source": [
    "np.count "
   ]
  },
  {
   "cell_type": "code",
   "execution_count": 53,
   "metadata": {},
   "outputs": [
    {
     "data": {
      "text/plain": [
       "(916909, 4)"
      ]
     },
     "execution_count": 53,
     "metadata": {},
     "output_type": "execute_result"
    }
   ],
   "source": [
    "spot_r3.shape"
   ]
  },
  {
   "cell_type": "code",
   "execution_count": 118,
   "metadata": {},
   "outputs": [],
   "source": [
    "spot[:, :3] = spot[:, :3] / vox\n",
    "spot[:, 3]=np.where(spot[:, 3]<0,0, spot[:, 3])\n",
    "spot=spot[spot[:,0]<=grid[0]]\n",
    "spot=spot[spot[:,1]<=grid[1]]\n",
    "spot=spot[spot[:,2]<=grid[2]]\n",
    "num_spot=len(spot[:,])\n",
    "img_spot=np.zeros(lb.shape, dtype='float32')"
   ]
  },
  {
   "cell_type": "code",
   "execution_count": 119,
   "metadata": {},
   "outputs": [],
   "source": [
    "tile=os.path.basename(f)\n",
    "name=tile.split('.')[0]\n",
    "col1=name +'_' +'spot_count'\n",
    "col2=name +'_'+'spot_id'\n",
    "df_f = pd.DataFrame(np.empty([roi, 2]), columns=[col1, col2],dtype=object)"
   ]
  },
  {
   "cell_type": "code",
   "execution_count": 120,
   "metadata": {},
   "outputs": [
    {
     "data": {
      "text/html": [
       "<div>\n",
       "<style scoped>\n",
       "    .dataframe tbody tr th:only-of-type {\n",
       "        vertical-align: middle;\n",
       "    }\n",
       "\n",
       "    .dataframe tbody tr th {\n",
       "        vertical-align: top;\n",
       "    }\n",
       "\n",
       "    .dataframe thead th {\n",
       "        text-align: right;\n",
       "    }\n",
       "</style>\n",
       "<table border=\"1\" class=\"dataframe\">\n",
       "  <thead>\n",
       "    <tr style=\"text-align: right;\">\n",
       "      <th></th>\n",
       "      <th>R3_c0_spot_count</th>\n",
       "      <th>R3_c0_spot_id</th>\n",
       "    </tr>\n",
       "  </thead>\n",
       "  <tbody>\n",
       "    <tr>\n",
       "      <th>0</th>\n",
       "      <td>2.14256e-314</td>\n",
       "      <td>2.14256e-314</td>\n",
       "    </tr>\n",
       "    <tr>\n",
       "      <th>1</th>\n",
       "      <td>2.14256e-314</td>\n",
       "      <td>2.14256e-314</td>\n",
       "    </tr>\n",
       "    <tr>\n",
       "      <th>2</th>\n",
       "      <td>2.14256e-314</td>\n",
       "      <td>2.14256e-314</td>\n",
       "    </tr>\n",
       "    <tr>\n",
       "      <th>3</th>\n",
       "      <td>2.14256e-314</td>\n",
       "      <td>2.14256e-314</td>\n",
       "    </tr>\n",
       "    <tr>\n",
       "      <th>4</th>\n",
       "      <td>2.14256e-314</td>\n",
       "      <td>2.14256e-314</td>\n",
       "    </tr>\n",
       "  </tbody>\n",
       "</table>\n",
       "</div>"
      ],
      "text/plain": [
       "  R3_c0_spot_count R3_c0_spot_id\n",
       "0     2.14256e-314  2.14256e-314\n",
       "1     2.14256e-314  2.14256e-314\n",
       "2     2.14256e-314  2.14256e-314\n",
       "3     2.14256e-314  2.14256e-314\n",
       "4     2.14256e-314  2.14256e-314"
      ]
     },
     "execution_count": 120,
     "metadata": {},
     "output_type": "execute_result"
    }
   ],
   "source": [
    "df_f.head()"
   ]
  },
  {
   "cell_type": "code",
   "execution_count": 121,
   "metadata": {},
   "outputs": [],
   "source": [
    "for n in range(0,num_spot):\n",
    "    img_spot[int(spot[n,2]),int(spot[n,1]),int(spot[n,0])]=n+1"
   ]
  },
  {
   "cell_type": "code",
   "execution_count": 127,
   "metadata": {},
   "outputs": [
    {
     "data": {
      "text/plain": [
       "(811, 1790, 1790)"
      ]
     },
     "execution_count": 127,
     "metadata": {},
     "output_type": "execute_result"
    }
   ],
   "source": [
    "img_spot.shape"
   ]
  },
  {
   "cell_type": "code",
   "execution_count": 135,
   "metadata": {},
   "outputs": [
    {
     "ename": "SyntaxError",
     "evalue": "can't assign to function call (<ipython-input-135-8c687f92e341>, line 1)",
     "output_type": "error",
     "traceback": [
      "\u001b[0;36m  File \u001b[0;32m\"<ipython-input-135-8c687f92e341>\"\u001b[0;36m, line \u001b[0;32m1\u001b[0m\n\u001b[0;31m    for sorted(i) in range(0,2):\u001b[0m\n\u001b[0m       ^\u001b[0m\n\u001b[0;31mSyntaxError\u001b[0m\u001b[0;31m:\u001b[0m can't assign to function call\n"
     ]
    }
   ],
   "source": [
    "for sorted(i) in range(0,roi): \n",
    "    df_f.loc[df.index[i], col1] = np.count_nonzero(img_spot[lb==i+1])\n",
    "    df_f.loc[df.index[i], col2] = np.unique(np.trim_zeros(img_spot[lb==i+1]))"
   ]
  },
  {
   "cell_type": "code",
   "execution_count": 132,
   "metadata": {
    "scrolled": true
   },
   "outputs": [
    {
     "data": {
      "text/html": [
       "<div>\n",
       "<style scoped>\n",
       "    .dataframe tbody tr th:only-of-type {\n",
       "        vertical-align: middle;\n",
       "    }\n",
       "\n",
       "    .dataframe tbody tr th {\n",
       "        vertical-align: top;\n",
       "    }\n",
       "\n",
       "    .dataframe thead th {\n",
       "        text-align: right;\n",
       "    }\n",
       "</style>\n",
       "<table border=\"1\" class=\"dataframe\">\n",
       "  <thead>\n",
       "    <tr style=\"text-align: right;\">\n",
       "      <th></th>\n",
       "      <th>R3_c0_spot_count</th>\n",
       "      <th>R3_c0_spot_id</th>\n",
       "      <th>col</th>\n",
       "    </tr>\n",
       "  </thead>\n",
       "  <tbody>\n",
       "    <tr>\n",
       "      <th>0</th>\n",
       "      <td>1</td>\n",
       "      <td>1</td>\n",
       "      <td>1.0</td>\n",
       "    </tr>\n",
       "    <tr>\n",
       "      <th>1</th>\n",
       "      <td>5</td>\n",
       "      <td>5</td>\n",
       "      <td>5.0</td>\n",
       "    </tr>\n",
       "    <tr>\n",
       "      <th>2</th>\n",
       "      <td>0</td>\n",
       "      <td>0</td>\n",
       "      <td>NaN</td>\n",
       "    </tr>\n",
       "    <tr>\n",
       "      <th>3</th>\n",
       "      <td>0</td>\n",
       "      <td>0</td>\n",
       "      <td>NaN</td>\n",
       "    </tr>\n",
       "    <tr>\n",
       "      <th>4</th>\n",
       "      <td>13</td>\n",
       "      <td>13</td>\n",
       "      <td>NaN</td>\n",
       "    </tr>\n",
       "  </tbody>\n",
       "</table>\n",
       "</div>"
      ],
      "text/plain": [
       "  R3_c0_spot_count R3_c0_spot_id  col\n",
       "0                1             1  1.0\n",
       "1                5             5  5.0\n",
       "2                0             0  NaN\n",
       "3                0             0  NaN\n",
       "4               13            13  NaN"
      ]
     },
     "execution_count": 132,
     "metadata": {},
     "output_type": "execute_result"
    }
   ],
   "source": [
    "df_f.head()"
   ]
  },
  {
   "cell_type": "code",
   "execution_count": 66,
   "metadata": {},
   "outputs": [
    {
     "data": {
      "text/plain": [
       "2175.052636536908"
      ]
     },
     "execution_count": 66,
     "metadata": {},
     "output_type": "execute_result"
    }
   ],
   "source": [
    "max(spot[:,0])"
   ]
  },
  {
   "cell_type": "code",
   "execution_count": 69,
   "metadata": {},
   "outputs": [
    {
     "data": {
      "text/plain": [
       "328012"
      ]
     },
     "execution_count": 69,
     "metadata": {},
     "output_type": "execute_result"
    }
   ],
   "source": [
    "np.count_nonzero(spot[spot[:,2]>=700])"
   ]
  },
  {
   "cell_type": "code",
   "execution_count": 60,
   "metadata": {},
   "outputs": [
    {
     "data": {
      "text/plain": [
       "7138.778424336991"
      ]
     },
     "execution_count": 60,
     "metadata": {},
     "output_type": "execute_result"
    }
   ],
   "source": [
    "max(spot[:,1])"
   ]
  },
  {
   "cell_type": "code",
   "execution_count": 59,
   "metadata": {},
   "outputs": [
    {
     "data": {
      "text/plain": [
       "391.85999223589897"
      ]
     },
     "execution_count": 59,
     "metadata": {},
     "output_type": "execute_result"
    }
   ],
   "source": [
    "max(spot_r3[:,2])"
   ]
  },
  {
   "cell_type": "code",
   "execution_count": 55,
   "metadata": {},
   "outputs": [
    {
     "data": {
      "text/plain": [
       "(811, 1790, 1790)"
      ]
     },
     "execution_count": 55,
     "metadata": {},
     "output_type": "execute_result"
    }
   ],
   "source": [
    "lb.shape"
   ]
  },
  {
   "cell_type": "code",
   "execution_count": 103,
   "metadata": {},
   "outputs": [],
   "source": [
    "spot[:, :3] = spot[:, :3] / vox"
   ]
  },
  {
   "cell_type": "code",
   "execution_count": 34,
   "metadata": {},
   "outputs": [
    {
     "data": {
      "text/plain": [
       "str"
      ]
     },
     "execution_count": 34,
     "metadata": {},
     "output_type": "execute_result"
    }
   ],
   "source": [
    "type(dim)"
   ]
  },
  {
   "cell_type": "code",
   "execution_count": 114,
   "metadata": {},
   "outputs": [],
   "source": [
    "spot=spot[spot[:,1]<=grid[1]]"
   ]
  },
  {
   "cell_type": "code",
   "execution_count": 127,
   "metadata": {},
   "outputs": [],
   "source": [
    "\n",
    "\n",
    "    ####covert to python (z,y,x) format####"
   ]
  },
  {
   "cell_type": "code",
   "execution_count": 128,
   "metadata": {},
   "outputs": [],
   "source": []
  },
  {
   "cell_type": "code",
   "execution_count": 6,
   "metadata": {},
   "outputs": [],
   "source": [
    "?regionprops\n"
   ]
  },
  {
   "cell_type": "code",
   "execution_count": 145,
   "metadata": {},
   "outputs": [],
   "source": [
    "#count=np.empty([roi,6])\n",
    "#for i in range(0,roi): \n",
    "#    count[i,0]=i+1\n",
    "#    count[i,1]=np.count_nonzero(img_spot[lb==i+1])\n",
    "#.   count[i,2]=np.unique(np.trim_zeros(img_spot[lb==i+1]))\n",
    "#    count[i,2]=lb_stat[i].area"
   ]
  },
  {
   "cell_type": "code",
   "execution_count": 147,
   "metadata": {},
   "outputs": [],
   "source": []
  },
  {
   "cell_type": "code",
   "execution_count": 149,
   "metadata": {},
   "outputs": [],
   "source": [
    "df.to_csv(\"/Users/wangy6/Desktop/CEA265P_R1R12/count.csv\", index=False)"
   ]
  }
 ],
 "metadata": {
  "kernelspec": {
   "display_name": "Python 3",
   "language": "python",
   "name": "python3"
  }
 },
 "nbformat": 4,
 "nbformat_minor": 2
}
