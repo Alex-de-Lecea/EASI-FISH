{
 "cells": [
  {
   "cell_type": "markdown",
   "metadata": {},
   "source": [
    "####New lipofuscin subtraction method test###"
   ]
  },
  {
   "cell_type": "code",
   "execution_count": 1,
   "metadata": {},
   "outputs": [],
   "source": [
    "import os, sys\n",
    "import numpy as np\n",
    "import pandas as pd\n",
    "from glob import glob \n",
    "from skimage.measure import regionprops\n",
    "from skimage.io import imread, imsave\n",
    "from os.path import abspath, dirname\n",
    "sys.path.append(\"/Users/wangy6/Desktop/DATA/Codes/Python/n5_cut tiles/\")\n",
    "import n5_metadata_utils as n5mu\n",
    "from scipy.spatial import distance"
   ]
  },
  {
   "cell_type": "code",
   "execution_count": 2,
   "metadata": {},
   "outputs": [],
   "source": [
    "spots_raw=pd.read_csv('/Volumes/multifish/Yuhan/LHA3/analysis/spot/1_raw/1_raw_count_v4.csv',index_col=0, sep=',')"
   ]
  },
  {
   "cell_type": "code",
   "execution_count": 38,
   "metadata": {},
   "outputs": [],
   "source": [
    "lipo=pd.read_csv('/Volumes/multifish/Yuhan/LHA3/analysis/spot/3_lipoRemove/lipo_analysis_v3.csv',index_col=0, sep=',')"
   ]
  },
  {
   "cell_type": "code",
   "execution_count": 39,
   "metadata": {},
   "outputs": [],
   "source": [
    "roi=pd.read_csv('/Volumes/multifish/Yuhan/LHA3/segmentation/roi_intact.csv',sep=',', index_col=0)"
   ]
  },
  {
   "cell_type": "code",
   "execution_count": 40,
   "metadata": {},
   "outputs": [],
   "source": [
    "spots_raw=spots_raw[spots_raw.index.isin(roi.index)]\n",
    "lipo=lipo[lipo.index.isin(roi.index)]"
   ]
  },
  {
   "cell_type": "code",
   "execution_count": 41,
   "metadata": {},
   "outputs": [],
   "source": [
    "lipo['c0_mean']=lipo[['R4_c0_lipo','R5_lipo_c0','R6_lipo_c0','R7_lipo_c0','R8_lipo_c0','R9_lipo_c0','R10_lipo_c0']].mean(axis=1)\n",
    "lipo['c0_median']=lipo[['R4_c0_lipo','R5_lipo_c0','R6_lipo_c0','R7_lipo_c0','R8_lipo_c0','R9_lipo_c0','R10_lipo_c0']].median(axis=1)"
   ]
  },
  {
   "cell_type": "code",
   "execution_count": 42,
   "metadata": {},
   "outputs": [],
   "source": [
    "lipo['c1_mean']=lipo[['R4_c1_lipo','R5_lipo_c1','R6_lipo_c1','R7_lipo_c1','R8_lipo_c1','R9_lipo_c1','R10_lipo_c1']].mean(axis=1)\n",
    "lipo['c1_median']=lipo[['R4_c1_lipo','R5_lipo_c1','R6_lipo_c1','R7_lipo_c1','R8_lipo_c1','R9_lipo_c1','R10_lipo_c1']].median(axis=1)"
   ]
  },
  {
   "cell_type": "markdown",
   "metadata": {},
   "source": [
    "Approach ###1: \n",
    "For R2 and R3, subtract lipofuscin spots in cells based on the identified lipofuscins in corresponding rounds; \n",
    "For R4-R10, if the raw spots > 500 in either c0 or c1, then use the median lipofuscin counts (to avoid subtracting real spots); if the raw spots <500, then use the identified lipofuscins in corresponding rounds;"
   ]
  },
  {
   "cell_type": "markdown",
   "metadata": {},
   "source": [
    "####Handling of R4-R10#####"
   ]
  },
  {
   "cell_type": "code",
   "execution_count": 43,
   "metadata": {},
   "outputs": [],
   "source": [
    "spots_new=spots_raw.copy()\n",
    "Uplimit=200\n",
    "for i in roi.index:\n",
    "    if (spots_new.loc[i,'R4_c0']>Uplimit or spots_new.loc[i,'R4_c1']>Uplimit)==True:\n",
    "        spots_new.loc[i,'R4_c0']=spots_new.loc[i,'R4_c0']-lipo.loc[i,'c0_median']\n",
    "        spots_new.loc[i,'R4_c1']=spots_new.loc[i,'R4_c1']-lipo.loc[i,'c1_median']\n",
    "    else:\n",
    "        spots_new.loc[i,'R4_c0']=spots_new.loc[i,'R4_c0']-lipo.loc[i,'R4_c0_lipo']\n",
    "        spots_new.loc[i,'R4_c1']=spots_new.loc[i,'R4_c1']-lipo.loc[i,'R4_c1_lipo']"
   ]
  },
  {
   "cell_type": "code",
   "execution_count": 44,
   "metadata": {},
   "outputs": [],
   "source": [
    "for i in roi.index:\n",
    "    if (spots_new.loc[i,'R5_c0']>Uplimit or spots_new.loc[i,'R5_c1']>Uplimit)==True:\n",
    "        spots_new.loc[i,'R5_c0']=spots_new.loc[i,'R5_c0']-lipo.loc[i,'c0_median']\n",
    "        spots_new.loc[i,'R5_c1']=spots_new.loc[i,'R5_c1']-lipo.loc[i,'c1_median']\n",
    "    else:\n",
    "        spots_new.loc[i,'R5_c0']=spots_new.loc[i,'R5_c0']-lipo.loc[i,'R5_lipo_c0']\n",
    "        spots_new.loc[i,'R5_c1']=spots_new.loc[i,'R5_c1']-lipo.loc[i,'R5_lipo_c1']"
   ]
  },
  {
   "cell_type": "code",
   "execution_count": 45,
   "metadata": {},
   "outputs": [],
   "source": [
    "for i in roi.index:\n",
    "    if (spots_new.loc[i,'R6_c0']>Uplimit or spots_new.loc[i,'R6_c1']>Uplimit)==True:\n",
    "        spots_new.loc[i,'R6_c0']=spots_new.loc[i,'R6_c0']-lipo.loc[i,'c0_median']\n",
    "        spots_new.loc[i,'R6_c1']=spots_new.loc[i,'R6_c1']-lipo.loc[i,'c1_median']\n",
    "    else:\n",
    "        spots_new.loc[i,'R6_c0']=spots_new.loc[i,'R6_c0']-lipo.loc[i,'R6_lipo_c0']\n",
    "        spots_new.loc[i,'R6_c1']=spots_new.loc[i,'R6_c1']-lipo.loc[i,'R6_lipo_c1']"
   ]
  },
  {
   "cell_type": "code",
   "execution_count": 46,
   "metadata": {},
   "outputs": [],
   "source": [
    "for i in roi.index:\n",
    "    if (spots_new.loc[i,'R7_c0']>Uplimit or spots_new.loc[i,'R7_c1']>Uplimit)==True:\n",
    "        spots_new.loc[i,'R7_c0']=spots_new.loc[i,'R7_c0']-lipo.loc[i,'c0_median']\n",
    "        spots_new.loc[i,'R7_c1']=spots_new.loc[i,'R7_c1']-lipo.loc[i,'c1_median']\n",
    "    else:\n",
    "        spots_new.loc[i,'R7_c0']=spots_new.loc[i,'R7_c0']-lipo.loc[i,'R7_lipo_c0']\n",
    "        spots_new.loc[i,'R7_c1']=spots_new.loc[i,'R7_c1']-lipo.loc[i,'R7_lipo_c1']"
   ]
  },
  {
   "cell_type": "code",
   "execution_count": 47,
   "metadata": {},
   "outputs": [],
   "source": [
    "for i in roi.index:\n",
    "    if (spots_new.loc[i,'R8_c0']>Uplimit or spots_new.loc[i,'R8_c1']>Uplimit)==True:\n",
    "        spots_new.loc[i,'R8_c0']=spots_new.loc[i,'R8_c0']-lipo.loc[i,'c0_median']\n",
    "        spots_new.loc[i,'R8_c1']=spots_new.loc[i,'R8_c1']-lipo.loc[i,'c1_median']\n",
    "    else:\n",
    "        spots_new.loc[i,'R8_c0']=spots_new.loc[i,'R8_c0']-lipo.loc[i,'R8_lipo_c0']\n",
    "        spots_new.loc[i,'R8_c1']=spots_new.loc[i,'R8_c1']-lipo.loc[i,'R8_lipo_c1']"
   ]
  },
  {
   "cell_type": "code",
   "execution_count": 48,
   "metadata": {},
   "outputs": [],
   "source": [
    "for i in roi.index:\n",
    "    if (spots_new.loc[i,'R9_c0']>Uplimit or spots_new.loc[i,'R9_c1']>Uplimit)==True:\n",
    "        spots_new.loc[i,'R9_c0']=spots_new.loc[i,'R9_c0']-lipo.loc[i,'c0_median']\n",
    "        spots_new.loc[i,'R9_c1']=spots_new.loc[i,'R9_c1']-lipo.loc[i,'c1_median']\n",
    "    else:\n",
    "        spots_new.loc[i,'R9_c0']=spots_new.loc[i,'R9_c0']-lipo.loc[i,'R9_lipo_c0']\n",
    "        spots_new.loc[i,'R9_c1']=spots_new.loc[i,'R9_c1']-lipo.loc[i,'R9_lipo_c1']"
   ]
  },
  {
   "cell_type": "code",
   "execution_count": 49,
   "metadata": {},
   "outputs": [],
   "source": [
    "for i in roi.index:\n",
    "    if (spots_new.loc[i,'R10_c0']>Uplimit or spots_new.loc[i,'R10_c1']>Uplimit)==True:\n",
    "        spots_new.loc[i,'R10_c0']=spots_new.loc[i,'R10_c0']-lipo.loc[i,'c0_median']\n",
    "        spots_new.loc[i,'R10_c1']=spots_new.loc[i,'R10_c1']-lipo.loc[i,'c1_median']\n",
    "    else:\n",
    "        spots_new.loc[i,'R10_c0']=spots_new.loc[i,'R10_c0']-lipo.loc[i,'R10_lipo_c0']\n",
    "        spots_new.loc[i,'R10_c1']=spots_new.loc[i,'R10_c1']-lipo.loc[i,'R10_lipo_c1']"
   ]
  },
  {
   "cell_type": "markdown",
   "metadata": {},
   "source": [
    "####Handling of R2 and R3#####"
   ]
  },
  {
   "cell_type": "code",
   "execution_count": 50,
   "metadata": {},
   "outputs": [],
   "source": [
    "for i in roi.index:\n",
    "    spots_new.loc[i,'R2_c0']=spots_new.loc[i,'R2_c0']-lipo.loc[i,'R2_lipo_c0']\n",
    "    spots_new.loc[i,'R2_c1']=spots_new.loc[i,'R2_c1']-lipo.loc[i,'R2_lipo_c1']\n",
    "    spots_new.loc[i,'R3_c0']=spots_new.loc[i,'R3_c0']-lipo.loc[i,'R3_lipo_c0']\n",
    "    spots_new.loc[i,'R3_c1']=spots_new.loc[i,'R3_c1']-lipo.loc[i,'R3_lipo_c1']"
   ]
  },
  {
   "cell_type": "code",
   "execution_count": 51,
   "metadata": {},
   "outputs": [],
   "source": [
    "spots_new.to_csv(\"/Volumes/multifish/Yuhan/LHA3/analysis/spot/3_lipoRemove/count_intact_cell_removeLipo_method1_v3.csv\")"
   ]
  },
  {
   "cell_type": "markdown",
   "metadata": {},
   "source": [
    "Approach ###2: \n",
    "For R2 and R3, subtract lipofuscin spots in cells based on the identified lipofuscins in corresponding rounds; \n",
    "For R4-R10, use the median lipofuscin counts (to avoid subtracting real spots)"
   ]
  },
  {
   "cell_type": "markdown",
   "metadata": {},
   "source": [
    "####Handling of R2, R3, R4 to R10#####"
   ]
  },
  {
   "cell_type": "code",
   "execution_count": 52,
   "metadata": {},
   "outputs": [],
   "source": [
    "spots_v2=spots_raw.copy()\n",
    "for i in roi.index:\n",
    "    spots_v2.loc[i,'R2_c0']=spots_v2.loc[i,'R2_c0']-lipo.loc[i,'R2_lipo_c0']\n",
    "    spots_v2.loc[i,'R2_c1']=spots_v2.loc[i,'R2_c1']-lipo.loc[i,'R2_lipo_c1']\n",
    "    spots_v2.loc[i,'R3_c0']=spots_v2.loc[i,'R3_c0']-lipo.loc[i,'R3_lipo_c0']\n",
    "    spots_v2.loc[i,'R3_c1']=spots_v2.loc[i,'R3_c1']-lipo.loc[i,'R3_lipo_c1']\n",
    "    spots_v2.loc[i,'R4_c0']=spots_v2.loc[i,'R4_c0']-lipo.loc[i,'c0_median']\n",
    "    spots_v2.loc[i,'R4_c1']=spots_v2.loc[i,'R4_c1']-lipo.loc[i,'c1_median']\n",
    "    spots_v2.loc[i,'R5_c0']=spots_v2.loc[i,'R5_c0']-lipo.loc[i,'c0_median']\n",
    "    spots_v2.loc[i,'R5_c1']=spots_v2.loc[i,'R5_c1']-lipo.loc[i,'c1_median']\n",
    "    spots_v2.loc[i,'R6_c0']=spots_v2.loc[i,'R6_c0']-lipo.loc[i,'c0_median']\n",
    "    spots_v2.loc[i,'R6_c1']=spots_v2.loc[i,'R6_c1']-lipo.loc[i,'c1_median']\n",
    "    spots_v2.loc[i,'R7_c0']=spots_v2.loc[i,'R7_c0']-lipo.loc[i,'c0_median']\n",
    "    spots_v2.loc[i,'R7_c1']=spots_v2.loc[i,'R7_c1']-lipo.loc[i,'c1_median']\n",
    "    spots_v2.loc[i,'R8_c0']=spots_v2.loc[i,'R8_c0']-lipo.loc[i,'c0_median']\n",
    "    spots_v2.loc[i,'R8_c1']=spots_v2.loc[i,'R8_c1']-lipo.loc[i,'c1_median']\n",
    "    spots_v2.loc[i,'R9_c0']=spots_v2.loc[i,'R9_c0']-lipo.loc[i,'c0_median']\n",
    "    spots_v2.loc[i,'R9_c1']=spots_v2.loc[i,'R9_c1']-lipo.loc[i,'c1_median']\n",
    "    spots_v2.loc[i,'R10_c0']=spots_v2.loc[i,'R10_c0']-lipo.loc[i,'c0_median']\n",
    "    spots_v2.loc[i,'R10_c1']=spots_v2.loc[i,'R10_c1']-lipo.loc[i,'c1_median']"
   ]
  },
  {
   "cell_type": "code",
   "execution_count": 53,
   "metadata": {},
   "outputs": [],
   "source": [
    "spots_v2.to_csv(\"/Volumes/multifish/Yuhan/LHA3/analysis/spot/3_lipoRemove/count_intact_cell_removeLipo_method2_v3.csv\")"
   ]
  }
 ],
 "metadata": {
  "kernelspec": {
   "display_name": "local-venv",
   "language": "python",
   "name": "local-venv"
  },
  "language_info": {
   "codemirror_mode": {
    "name": "ipython",
    "version": 3
   },
   "file_extension": ".py",
   "mimetype": "text/x-python",
   "name": "python",
   "nbconvert_exporter": "python",
   "pygments_lexer": "ipython3",
   "version": "3.7.4"
  }
 },
 "nbformat": 4,
 "nbformat_minor": 2
}
