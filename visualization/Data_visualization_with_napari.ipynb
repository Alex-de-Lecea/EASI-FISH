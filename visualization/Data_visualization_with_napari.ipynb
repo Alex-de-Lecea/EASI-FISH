{
 "cells": [
  {
   "cell_type": "markdown",
   "metadata": {},
   "source": [
    "\n",
    "\n",
    "last update: 2021-01-22\n",
    "\n",
    "\n"
   ]
  },
  {
   "cell_type": "markdown",
   "metadata": {},
   "source": [
    "###### Load python packages"
   ]
  },
  {
   "cell_type": "code",
   "execution_count": 1,
   "metadata": {
    "scrolled": true
   },
   "outputs": [],
   "source": [
    "import os, sys\n",
    "import numpy as np"
   ]
  },
  {
   "cell_type": "code",
   "execution_count": 2,
   "metadata": {},
   "outputs": [],
   "source": [
    "%gui qt5\n",
    "import napari\n",
    "viewer = napari.Viewer(ndisplay=3)"
   ]
  },
  {
   "cell_type": "markdown",
   "metadata": {},
   "source": [
    "###### Read 'tif' image data (for example: segmentation mask)"
   ]
  },
  {
   "cell_type": "code",
   "execution_count": 3,
   "metadata": {},
   "outputs": [],
   "source": [
    "from skimage.io import imread, imsave\n",
    "segmentation=imread('image/data/*.tif')"
   ]
  },
  {
   "cell_type": "markdown",
   "metadata": {},
   "source": [
    "###### Load 'n5' image data (for example: registered image data)"
   ]
  },
  {
   "cell_type": "code",
   "execution_count": 4,
   "metadata": {
    "scrolled": true
   },
   "outputs": [],
   "source": [
    "import zarr\n",
    "\n",
    "imdir='directory/to/n5/image/data' # get n5 image data\n",
    "subpath='c2/s2' # channel and scale\n",
    "im = zarr.open(store=zarr.N5Store(imdir), mode='r')\n",
    "img = im[subpath][...]"
   ]
  },
  {
   "cell_type": "code",
   "execution_count": 9,
   "metadata": {},
   "outputs": [],
   "source": [
    "viewer.add_labels(segmentation, name='segmentation') #load segmentation into napari"
   ]
  },
  {
   "cell_type": "code",
   "execution_count": 6,
   "metadata": {},
   "outputs": [],
   "source": [
    "viewer.add_image(img,colormap='gray',blending='additive') #load image data into napari"
   ]
  },
  {
   "cell_type": "code",
   "execution_count": 7,
   "metadata": {},
   "outputs": [],
   "source": [
    "import pandas as pd\n",
    "spotdir = '/dir/to/extracted/spots/*.csv'\n",
    "spot=pd.read_csv(spotdir,header=None,delimiter=' ')"
   ]
  },
  {
   "cell_type": "code",
   "execution_count": 10,
   "metadata": {},
   "outputs": [],
   "source": [
    "vox=[0.92,0.92,0.84] #image data voxel size, in xyz order\n",
    "s=spot.iloc[:,:3]/vox #convert spot physical coordinates to pixel coordinates"
   ]
  },
  {
   "cell_type": "code",
   "execution_count": 48,
   "metadata": {},
   "outputs": [
    {
     "data": {
      "text/plain": [
       "<Points layer 'Points [3]' at 0x1c336c0a90>"
      ]
     },
     "execution_count": 48,
     "metadata": {},
     "output_type": "execute_result"
    }
   ],
   "source": [
    "viewer.add_points(np.transpose(np.array([s[2],s[1],s[0]])), size=2, face_color='red',edge_color='red') #load spots into napari"
   ]
  }
 ],
 "metadata": {
  "kernelspec": {
   "display_name": "Napari",
   "language": "python",
   "name": "napari"
  },
  "language_info": {
   "codemirror_mode": {
    "name": "ipython",
    "version": 3
   },
   "file_extension": ".py",
   "mimetype": "text/x-python",
   "name": "python",
   "nbconvert_exporter": "python",
   "pygments_lexer": "ipython3",
   "version": "3.7.4"
  }
 },
 "nbformat": 4,
 "nbformat_minor": 2
}
