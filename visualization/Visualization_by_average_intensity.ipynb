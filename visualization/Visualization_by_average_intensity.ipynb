{
 "cells": [
  {
   "cell_type": "code",
   "execution_count": 1,
   "metadata": {},
   "outputs": [],
   "source": [
    "import os, sys,z5py\n",
    "import numpy as np\n",
    "import pandas as pd\n",
    "from glob import glob \n",
    "from skimage.io import imread, imsave\n",
    "from os.path import abspath, dirname\n",
    "sys.path.append(\"/Users/wangy6/Desktop/DATA/Codes/Python/n5_cut tiles/\")\n",
    "import n5_metadata_utils as n5mu"
   ]
  },
  {
   "cell_type": "code",
   "execution_count": 3,
   "metadata": {},
   "outputs": [],
   "source": [
    "%gui qt\n",
    "from skimage import data\n",
    "import napari\n",
    "napari.gui_qt()\n",
    "viewer = napari.Viewer(ndisplay=3)"
   ]
  },
  {
   "cell_type": "code",
   "execution_count": 4,
   "metadata": {},
   "outputs": [],
   "source": [
    "###Input information here: cell ID, image volume size, channels###\n",
    "channel_1='c1'\n",
    "channel_2=''\n",
    "imdir=\"/Volumes/multifish/Yuhan/LHA3/register/reR8_LHA3/warped/\"\n",
    "intdir='/Volumes/multifish/Yuhan/LHA3/analysis/spot/4_intensity/R8_c1_intensity.csv'\n",
    "#imdir='/Volumes/multifish/Yuhan/LHA3/stitch/R3_LHA3/export.n5/'\n",
    "#lbdir="
   ]
  },
  {
   "cell_type": "code",
   "execution_count": 5,
   "metadata": {},
   "outputs": [],
   "source": [
    "cell_int=pd.read_csv(intdir,sep=',', index_col=0)\n",
    "roi=pd.read_csv('/Volumes/multifish/Yuhan/LHA3/segmentation/roi_intact.csv',sep=',', index_col=0)"
   ]
  },
  {
   "cell_type": "code",
   "execution_count": 6,
   "metadata": {},
   "outputs": [],
   "source": [
    "import seaborn as sns\n",
    "import matplotlib.pyplot as plt"
   ]
  },
  {
   "cell_type": "code",
   "execution_count": 1,
   "metadata": {},
   "outputs": [
    {
     "ename": "NameError",
     "evalue": "name 'cell_int' is not defined",
     "output_type": "error",
     "traceback": [
      "\u001b[0;31m---------------------------------------------------------------------------\u001b[0m",
      "\u001b[0;31mNameError\u001b[0m                                 Traceback (most recent call last)",
      "\u001b[0;32m<ipython-input-1-757de51ceb78>\u001b[0m in \u001b[0;36m<module>\u001b[0;34m\u001b[0m\n\u001b[0;32m----> 1\u001b[0;31m \u001b[0ma\u001b[0m\u001b[0;34m=\u001b[0m\u001b[0mcell_int\u001b[0m\u001b[0;34m[\u001b[0m\u001b[0;34m'R8_c1'\u001b[0m\u001b[0;34m]\u001b[0m\u001b[0;34m.\u001b[0m\u001b[0mplot\u001b[0m\u001b[0;34m.\u001b[0m\u001b[0mhist\u001b[0m\u001b[0;34m(\u001b[0m\u001b[0mbins\u001b[0m\u001b[0;34m=\u001b[0m\u001b[0;36m100\u001b[0m\u001b[0;34m)\u001b[0m\u001b[0;34m\u001b[0m\u001b[0;34m\u001b[0m\u001b[0m\n\u001b[0m\u001b[1;32m      2\u001b[0m \u001b[0ma\u001b[0m\u001b[0;34m.\u001b[0m\u001b[0mset_yscale\u001b[0m\u001b[0;34m(\u001b[0m\u001b[0;34m'log'\u001b[0m\u001b[0;34m)\u001b[0m\u001b[0;34m\u001b[0m\u001b[0;34m\u001b[0m\u001b[0m\n\u001b[1;32m      3\u001b[0m \u001b[0mplot\u001b[0m\u001b[0;34m(\u001b[0m\u001b[0mgmm_x\u001b[0m\u001b[0;34m,\u001b[0m \u001b[0mgmm_y\u001b[0m\u001b[0;34m,\u001b[0m \u001b[0mcolor\u001b[0m\u001b[0;34m=\u001b[0m\u001b[0;34m\"crimson\"\u001b[0m\u001b[0;34m,\u001b[0m \u001b[0mlw\u001b[0m\u001b[0;34m=\u001b[0m\u001b[0;36m4\u001b[0m\u001b[0;34m,\u001b[0m \u001b[0mlabel\u001b[0m\u001b[0;34m=\u001b[0m\u001b[0;34m\"GMM\"\u001b[0m\u001b[0;34m)\u001b[0m\u001b[0;34m\u001b[0m\u001b[0;34m\u001b[0m\u001b[0m\n",
      "\u001b[0;31mNameError\u001b[0m: name 'cell_int' is not defined"
     ]
    }
   ],
   "source": [
    "a=cell_int['R8_c1'].plot.hist(bins=100)\n",
    "a.set_yscale('log')\n",
    "plot(gmm_x, gmm_y, color=\"crimson\", lw=4, label=\"GMM\")\n"
   ]
  },
  {
   "cell_type": "code",
   "execution_count": 10,
   "metadata": {},
   "outputs": [],
   "source": [
    "intensity=500\n",
    "di=100\n",
    "select=cell_int.index[(cell_int['R8_c1']<=intensity+di)&(cell_int['R8_c1']>intensity-di)]"
   ]
  },
  {
   "cell_type": "code",
   "execution_count": 11,
   "metadata": {},
   "outputs": [
    {
     "data": {
      "text/plain": [
       "Float64Index([  211.0,   346.0,   612.0,  1027.0,  1041.0,  2590.0,  3143.0,\n",
       "               3506.0,  3716.0,  4032.0,  4916.0,  5934.0,  6056.0,  7055.0,\n",
       "               8602.0,  9727.0, 10174.0, 10897.0, 11822.0, 12461.0, 13471.0,\n",
       "              13541.0, 13563.0, 14125.0, 14533.0, 19894.0, 20175.0, 21724.0,\n",
       "              22995.0],\n",
       "             dtype='float64', name='roi')"
      ]
     },
     "execution_count": 11,
     "metadata": {},
     "output_type": "execute_result"
    }
   ],
   "source": [
    "select"
   ]
  },
  {
   "cell_type": "code",
   "execution_count": 12,
   "metadata": {},
   "outputs": [],
   "source": [
    "z=roi.loc[select[0],'z']\n",
    "y=roi.loc[select[0],'y']\n",
    "x=roi.loc[select[0],'x']\n",
    "Z=int(z)\n",
    "Y=int(y)\n",
    "X=int(x)\n",
    "dz=50\n",
    "dy=100\n",
    "dx=100"
   ]
  },
  {
   "cell_type": "code",
   "execution_count": 14,
   "metadata": {},
   "outputs": [
    {
     "name": "stdout",
     "output_type": "stream",
     "text": [
      "24201\n"
     ]
    }
   ],
   "source": [
    "#### Optional:read in segmentation masks#### \n",
    "lb=imread(\"/Volumes/multifish/Yuhan/LHA3/segmentation/R3_label_affinity.tif\")\n",
    "nCells = np.max(lb)\n",
    "print(nCells)"
   ]
  },
  {
   "cell_type": "code",
   "execution_count": 15,
   "metadata": {},
   "outputs": [
    {
     "data": {
      "text/plain": [
       "<Image layer 'Image' at 0x1c2e644ed0>"
      ]
     },
     "execution_count": 15,
     "metadata": {},
     "output_type": "execute_result"
    }
   ],
   "source": [
    "# get n5 image data for channel 1\n",
    "im = z5py.File(imdir, use_zarr_format=False)       \n",
    "img_1 = im[channel_1+'/s2'][Z-dz:Z+dz,Y-dy:Y+dy,X-dx:X+dx]\n",
    "viewer.add_image(img_1.astype('float32'),colormap='green',blending='additive')"
   ]
  },
  {
   "cell_type": "code",
   "execution_count": 10,
   "metadata": {},
   "outputs": [],
   "source": [
    "# get n5 image data for channel 2\n",
    "if channel_2!='':\n",
    "    im = z5py.File(imdir, use_zarr_format=False)    \n",
    "    img_2 = im[channel_2+'/s2'][Z-dz:Z+dz,Y-dy:Y+dy,X-dx:X+dx]\n",
    "    viewer.add_image(img_2.astype('float32'),colormap='magenta',contrast_limits=(50,1000),blending='additive')"
   ]
  },
  {
   "cell_type": "code",
   "execution_count": 16,
   "metadata": {},
   "outputs": [
    {
     "data": {
      "text/plain": [
       "<Points layer 'Points' at 0x1c27d5e4d0>"
      ]
     },
     "execution_count": 16,
     "metadata": {},
     "output_type": "execute_result"
    }
   ],
   "source": [
    "z0=z-Z+dz\n",
    "y0=y-Y+dy\n",
    "x0=x-X+dx\n",
    "a=np.array([[z0],[y0],[x0]])\n",
    "a=np.transpose(a)\n",
    "viewer.add_points(a, size=5, face_color='red',edge_color='red')"
   ]
  },
  {
   "cell_type": "code",
   "execution_count": 17,
   "metadata": {},
   "outputs": [
    {
     "data": {
      "text/plain": [
       "<Image layer 'Image [1]' at 0x1c27c3e8d0>"
      ]
     },
     "execution_count": 17,
     "metadata": {},
     "output_type": "execute_result"
    }
   ],
   "source": [
    "lb_sub=lb[Z-dz:Z+dz,Y-dy:Y+dy,X-dx:X+dx]\n",
    "viewer.add_image(lb_sub.astype('float32'),blending='additive')"
   ]
  }
 ],
 "metadata": {
  "kernelspec": {
   "display_name": "local-venv",
   "language": "python",
   "name": "local-venv"
  },
  "language_info": {
   "codemirror_mode": {
    "name": "ipython",
    "version": 3
   },
   "file_extension": ".py",
   "mimetype": "text/x-python",
   "name": "python",
   "nbconvert_exporter": "python",
   "pygments_lexer": "ipython3",
   "version": "3.7.4"
  }
 },
 "nbformat": 4,
 "nbformat_minor": 2
}
