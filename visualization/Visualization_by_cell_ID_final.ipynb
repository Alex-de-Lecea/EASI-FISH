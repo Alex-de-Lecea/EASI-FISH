{
 "cells": [
  {
   "cell_type": "code",
   "execution_count": 490,
   "metadata": {},
   "outputs": [],
   "source": [
    "import os, sys,z5py\n",
    "import numpy as np\n",
    "import pandas as pd\n",
    "from glob import glob \n",
    "from skimage.io import imread, imsave\n",
    "from os.path import abspath, dirname\n",
    "sys.path.append(\"/Users/wangy6/Desktop/DATA/Codes/Python/n5_cut tiles/\")\n",
    "import n5_metadata_utils as n5mu"
   ]
  },
  {
   "cell_type": "code",
   "execution_count": 491,
   "metadata": {},
   "outputs": [],
   "source": [
    "%gui qt\n",
    "from skimage import data\n",
    "import napari\n",
    "napari.gui_qt()\n",
    "viewer = napari.Viewer(ndisplay=3)"
   ]
  },
  {
   "cell_type": "code",
   "execution_count": 552,
   "metadata": {},
   "outputs": [],
   "source": [
    "###Input information here: cell ID, image volume size, channels###\n",
    "cell_id=15609\n",
    "channel_1='c2'\n",
    "channel_2='c1'\n",
    "imdir=\"/Volumes/multifish/Yuhan/LHA3/register/reR9_LHA3/warped/\"\n",
    "#imdir='/Volumes/multifish/Yuhan/LHA3/stitch/R3_LHA3/export.n5/'\n",
    "#lbdir="
   ]
  },
  {
   "cell_type": "code",
   "execution_count": 150,
   "metadata": {},
   "outputs": [],
   "source": [
    "roi=pd.read_csv('/Volumes/multifish/Yuhan/LHA3/segmentation/roi_intact.csv',sep=',', index_col=0)\n"
   ]
  },
  {
   "cell_type": "code",
   "execution_count": 553,
   "metadata": {},
   "outputs": [],
   "source": [
    "z=roi.loc[cell_id,'z']\n",
    "y=roi.loc[cell_id,'y']\n",
    "x=roi.loc[cell_id,'x']\n",
    "Z=int(z)\n",
    "Y=int(y)\n",
    "X=int(x)\n",
    "dz=50\n",
    "dy=50\n",
    "dx=50"
   ]
  },
  {
   "cell_type": "code",
   "execution_count": 152,
   "metadata": {},
   "outputs": [],
   "source": [
    "#### Optional:read in segmentation masks#### \n",
    "lb=imread(\"/Volumes/multifish/Yuhan/LHA3/segmentation/R3_label_affinity.tif\")\n",
    "#nCells = np.max(lb)\n",
    "#print(nCells)\n"
   ]
  },
  {
   "cell_type": "code",
   "execution_count": 554,
   "metadata": {},
   "outputs": [
    {
     "data": {
      "text/plain": [
       "<Image layer 'Image [3]' at 0x1c7d60ce50>"
      ]
     },
     "execution_count": 554,
     "metadata": {},
     "output_type": "execute_result"
    }
   ],
   "source": [
    "lb_sub=lb[Z-dz:Z+dz,Y-dy:Y+dy,X-dx:X+dx]\n",
    "viewer.add_image(lb_sub.astype('uint32'),colormap='gist_earth', blending='additive')"
   ]
  },
  {
   "cell_type": "code",
   "execution_count": 555,
   "metadata": {},
   "outputs": [
    {
     "data": {
      "text/plain": [
       "<Points layer 'Points [1]' at 0x1c7d773c50>"
      ]
     },
     "execution_count": 555,
     "metadata": {},
     "output_type": "execute_result"
    }
   ],
   "source": [
    "# get n5 image data for channel 1\n",
    "im = z5py.File(imdir, use_zarr_format=False)       \n",
    "img_1 = im[channel_1+'/s2'][Z-dz:Z+dz,Y-dy:Y+dy,X-dx:X+dx]\n",
    "viewer.add_image(img_1.astype('float32'),colormap='green',blending='additive')\n",
    "# get n5 image data for channel 2\n",
    "if channel_2!='':\n",
    "    im = z5py.File(imdir, use_zarr_format=False)    \n",
    "    img_2 = im[channel_2+'/s2'][Z-dz:Z+dz,Y-dy:Y+dy,X-dx:X+dx]\n",
    "    viewer.add_image(img_2.astype('float32'),colormap='magenta',blending='additive')\n",
    "z0=z-Z+dz\n",
    "y0=y-Y+dy\n",
    "x0=x-X+dx\n",
    "a=np.array([[z0],[y0],[x0]])\n",
    "a=np.transpose(a)\n",
    "viewer.add_points(a, size=5, face_color='red',edge_color='red')"
   ]
  },
  {
   "cell_type": "code",
   "execution_count": 143,
   "metadata": {},
   "outputs": [
    {
     "data": {
      "text/plain": [
       "<Image layer 'Image [8]' at 0x1ea4d69410>"
      ]
     },
     "execution_count": 143,
     "metadata": {},
     "output_type": "execute_result"
    }
   ],
   "source": [
    "# get n5 image data for channel 1\n",
    "im = z5py.File('/Volumes/multifish/Yuhan/LHA3/register/reR9_LHA3/warped/', use_zarr_format=False)       \n",
    "img_1 = im['c0/s2'][Z-dz:Z+dz,Y-dy:Y+dy,X-dx:X+dx]\n",
    "viewer.add_image(img_1.astype('float32'),colormap='green',contrast_limits=(50,800),blending='additive')"
   ]
  },
  {
   "cell_type": "code",
   "execution_count": 142,
   "metadata": {},
   "outputs": [
    {
     "data": {
      "text/plain": [
       "<Image layer 'Image [7]' at 0x1ea056fe50>"
      ]
     },
     "execution_count": 142,
     "metadata": {},
     "output_type": "execute_result"
    }
   ],
   "source": [
    "# get n5 image data for channel 1\n",
    "im = z5py.File('/Volumes/multifish/Yuhan/LHA3/stitch/R3_LHA3/export.n5/', use_zarr_format=False)       \n",
    "img_1 = im['c1/s2'][Z-dz:Z+dz,Y-dy:Y+dy,X-dx:X+dx]\n",
    "viewer.add_image(img_1.astype('float32'),colormap='green',contrast_limits=(50,800),blending='additive')"
   ]
  },
  {
   "cell_type": "code",
   "execution_count": 140,
   "metadata": {},
   "outputs": [
    {
     "data": {
      "text/plain": [
       "<Image layer 'Image [6]' at 0x1ea65dcf10>"
      ]
     },
     "execution_count": 140,
     "metadata": {},
     "output_type": "execute_result"
    }
   ],
   "source": [
    "# get n5 image data for channel 1\n",
    "im = z5py.File('/Volumes/multifish/Yuhan/LHA3/register/reR7_LHA3/warped/', use_zarr_format=False)       \n",
    "img_1 = im['c0/s2'][Z-dz:Z+dz,Y-dy:Y+dy,X-dx:X+dx]\n",
    "viewer.add_image(img_1.astype('float32'),colormap='green',contrast_limits=(50,800),blending='additive')"
   ]
  },
  {
   "cell_type": "code",
   "execution_count": null,
   "metadata": {},
   "outputs": [],
   "source": [
    "# get n5 image data for channel 1\n",
    "im = z5py.File(imdir, use_zarr_format=False)       \n",
    "img_1 = im[channel_1+'/s2'][Z-dz:Z+dz,Y-dy:Y+dy,X-dx:X+dx]\n",
    "viewer.add_image(img_1.astype('float32'),colormap='green',contrast_limits=(50,800),blending='additive')\n",
    "# get n5 image data for channel 2\n",
    "if channel_2!='':\n",
    "    im = z5py.File(imdir, use_zarr_format=False)    \n",
    "    img_2 = im[channel_2+'/s2'][Z-dz:Z+dz,Y-dy:Y+dy,X-dx:X+dx]\n",
    "    viewer.add_image(img_2.astype('float32'),colormap='magenta',contrast_limits=(50,500),blending='additive')"
   ]
  }
 ],
 "metadata": {
  "kernelspec": {
   "display_name": "local-venv",
   "language": "python",
   "name": "local-venv"
  },
  "language_info": {
   "codemirror_mode": {
    "name": "ipython",
    "version": 3
   },
   "file_extension": ".py",
   "mimetype": "text/x-python",
   "name": "python",
   "nbconvert_exporter": "python",
   "pygments_lexer": "ipython3",
   "version": "3.7.4"
  }
 },
 "nbformat": 4,
 "nbformat_minor": 2
}
