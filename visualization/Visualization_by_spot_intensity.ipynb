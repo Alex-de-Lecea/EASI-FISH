{
 "cells": [
  {
   "cell_type": "code",
   "execution_count": 68,
   "metadata": {},
   "outputs": [],
   "source": [
    "import os, sys,z5py\n",
    "import numpy as np\n",
    "import pandas as pd\n",
    "from glob import glob \n",
    "from skimage.io import imread, imsave\n",
    "from os.path import abspath, dirname\n",
    "sys.path.append(\"/Users/wangy6/Desktop/DATA/Codes/Python/n5_cut tiles/\")\n",
    "import n5_metadata_utils as n5mu"
   ]
  },
  {
   "cell_type": "code",
   "execution_count": 69,
   "metadata": {},
   "outputs": [],
   "source": [
    "%gui qt\n",
    "from skimage import data\n",
    "import napari\n",
    "napari.gui_qt()\n",
    "viewer = napari.Viewer(ndisplay=3)"
   ]
  },
  {
   "cell_type": "code",
   "execution_count": 136,
   "metadata": {},
   "outputs": [],
   "source": [
    "###Input information here: cell ID, image volume size, channels###\n",
    "channel_1='c1'\n",
    "channel_2=''\n",
    "imdir=\"/Volumes/multifish/Yuhan/LHA3/register/reR9_LHA3/warped/\"\n",
    "spotdir='/Volumes/multifish/Yuhan/LHA3/analysis/spot/2_inMask/R9_c1_crop.txt'\n",
    "di=1000\n",
    "#imdir='/Volumes/multifish/Yuhan/LHA3/stitch/R3_LHA3/export.n5/'\n",
    "#lbdir="
   ]
  },
  {
   "cell_type": "code",
   "execution_count": 125,
   "metadata": {},
   "outputs": [],
   "source": [
    "spot=np.loadtxt(spotdir)"
   ]
  },
  {
   "cell_type": "code",
   "execution_count": 72,
   "metadata": {},
   "outputs": [],
   "source": [
    "import seaborn as sns\n",
    "import matplotlib.pyplot as plt"
   ]
  },
  {
   "cell_type": "code",
   "execution_count": 126,
   "metadata": {},
   "outputs": [
    {
     "data": {
      "text/plain": [
       "[<matplotlib.axis.XTick at 0x1c28ca3450>,\n",
       " <matplotlib.axis.XTick at 0x1c34f38510>,\n",
       " <matplotlib.axis.XTick at 0x1c360f41d0>,\n",
       " <matplotlib.axis.XTick at 0x1c28c94690>,\n",
       " <matplotlib.axis.XTick at 0x1c28345b50>,\n",
       " <matplotlib.axis.XTick at 0x1c28c97210>,\n",
       " <matplotlib.axis.XTick at 0x1c28c97690>,\n",
       " <matplotlib.axis.XTick at 0x1c35658850>,\n",
       " <matplotlib.axis.XTick at 0x1c35655b90>,\n",
       " <matplotlib.axis.XTick at 0x1c35655750>,\n",
       " <matplotlib.axis.XTick at 0x1c34f72f50>,\n",
       " <matplotlib.axis.XTick at 0x1c34f72e90>,\n",
       " <matplotlib.axis.XTick at 0x1c28345c10>,\n",
       " <matplotlib.axis.XTick at 0x1c34f3d050>,\n",
       " <matplotlib.axis.XTick at 0x1c35f31b90>,\n",
       " <matplotlib.axis.XTick at 0x1c35fd3d10>,\n",
       " <matplotlib.axis.XTick at 0x1c27fa8e10>,\n",
       " <matplotlib.axis.XTick at 0x1c28fdf590>,\n",
       " <matplotlib.axis.XTick at 0x1c28fdf3d0>,\n",
       " <matplotlib.axis.XTick at 0x1c34c0ff10>,\n",
       " <matplotlib.axis.XTick at 0x1c28fdf950>,\n",
       " <matplotlib.axis.XTick at 0x1c35f31c10>,\n",
       " <matplotlib.axis.XTick at 0x1c36107410>,\n",
       " <matplotlib.axis.XTick at 0x1c36107bd0>,\n",
       " <matplotlib.axis.XTick at 0x1c360f5250>,\n",
       " <matplotlib.axis.XTick at 0x1c360f5890>,\n",
       " <matplotlib.axis.XTick at 0x1c360f5ed0>,\n",
       " <matplotlib.axis.XTick at 0x1c3611ead0>,\n",
       " <matplotlib.axis.XTick at 0x1c3611e490>,\n",
       " <matplotlib.axis.XTick at 0x1c360ffd90>,\n",
       " <matplotlib.axis.XTick at 0x1c3611ea10>,\n",
       " <matplotlib.axis.XTick at 0x1c36107990>,\n",
       " <matplotlib.axis.XTick at 0x1c360ff8d0>,\n",
       " <matplotlib.axis.XTick at 0x1c360ff290>,\n",
       " <matplotlib.axis.XTick at 0x1c368af410>,\n",
       " <matplotlib.axis.XTick at 0x1c368afa50>,\n",
       " <matplotlib.axis.XTick at 0x1c368afd90>,\n",
       " <matplotlib.axis.XTick at 0x1c368b6710>,\n",
       " <matplotlib.axis.XTick at 0x1c368b6d50>,\n",
       " <matplotlib.axis.XTick at 0x1c368b64d0>,\n",
       " <matplotlib.axis.XTick at 0x1c368af390>,\n",
       " <matplotlib.axis.XTick at 0x1c368bc690>,\n",
       " <matplotlib.axis.XTick at 0x1c368bc990>,\n",
       " <matplotlib.axis.XTick at 0x1c368bca90>,\n",
       " <matplotlib.axis.XTick at 0x1c368c4650>,\n",
       " <matplotlib.axis.XTick at 0x1c368c4c90>,\n",
       " <matplotlib.axis.XTick at 0x1c368ca310>,\n",
       " <matplotlib.axis.XTick at 0x1c368ca950>,\n",
       " <matplotlib.axis.XTick at 0x1c368ca810>,\n",
       " <matplotlib.axis.XTick at 0x1c368ca490>,\n",
       " <matplotlib.axis.XTick at 0x1c368bc1d0>,\n",
       " <matplotlib.axis.XTick at 0x1c368d1510>,\n",
       " <matplotlib.axis.XTick at 0x1c368d1b50>,\n",
       " <matplotlib.axis.XTick at 0x1c368d8250>,\n",
       " <matplotlib.axis.XTick at 0x1c368d8810>,\n",
       " <matplotlib.axis.XTick at 0x1c368d8e50>,\n",
       " <matplotlib.axis.XTick at 0x1c368de4d0>,\n",
       " <matplotlib.axis.XTick at 0x1c368deb10>,\n",
       " <matplotlib.axis.XTick at 0x1c368de590>,\n",
       " <matplotlib.axis.XTick at 0x1c368d8290>,\n",
       " <matplotlib.axis.XTick at 0x1c368ca3d0>,\n",
       " <matplotlib.axis.XTick at 0x1c368e5750>,\n",
       " <matplotlib.axis.XTick at 0x1c368e5d90>,\n",
       " <matplotlib.axis.XTick at 0x1c368eb410>,\n",
       " <matplotlib.axis.XTick at 0x1c368eba50>,\n",
       " <matplotlib.axis.XTick at 0x1c368ebd90>,\n",
       " <matplotlib.axis.XTick at 0x1c34c57710>,\n",
       " <matplotlib.axis.XTick at 0x1c34c57d50>,\n",
       " <matplotlib.axis.XTick at 0x1c34c57690>,\n",
       " <matplotlib.axis.XTick at 0x1c368e5c90>,\n",
       " <matplotlib.axis.XTick at 0x1c34c5c350>,\n",
       " <matplotlib.axis.XTick at 0x1c34c5c910>,\n",
       " <matplotlib.axis.XTick at 0x1c34c5c7d0>,\n",
       " <matplotlib.axis.XTick at 0x1c34c635d0>,\n",
       " <matplotlib.axis.XTick at 0x1c34c63c10>,\n",
       " <matplotlib.axis.XTick at 0x1c34c6a290>,\n",
       " <matplotlib.axis.XTick at 0x1c34c6a8d0>,\n",
       " <matplotlib.axis.XTick at 0x1c34c6af10>,\n",
       " <matplotlib.axis.XTick at 0x1c34c634d0>,\n",
       " <matplotlib.axis.XTick at 0x1c368eb490>,\n",
       " <matplotlib.axis.XTick at 0x1c34c70510>,\n",
       " <matplotlib.axis.XTick at 0x1c34c70b50>,\n",
       " <matplotlib.axis.XTick at 0x1c34c78250>,\n",
       " <matplotlib.axis.XTick at 0x1c34c78810>,\n",
       " <matplotlib.axis.XTick at 0x1c34c78e50>,\n",
       " <matplotlib.axis.XTick at 0x1c34c7e4d0>,\n",
       " <matplotlib.axis.XTick at 0x1c34c7eb10>,\n",
       " <matplotlib.axis.XTick at 0x1c34c78350>,\n",
       " <matplotlib.axis.XTick at 0x1c34c6aa50>,\n",
       " <matplotlib.axis.XTick at 0x1c36107650>,\n",
       " <matplotlib.axis.XTick at 0x1c34c7e8d0>,\n",
       " <matplotlib.axis.XTick at 0x1c34c86490>,\n",
       " <matplotlib.axis.XTick at 0x1c34c86ad0>,\n",
       " <matplotlib.axis.XTick at 0x1c34c8b190>,\n",
       " <matplotlib.axis.XTick at 0x1c34c8b790>,\n",
       " <matplotlib.axis.XTick at 0x1c34c8bdd0>,\n",
       " <matplotlib.axis.XTick at 0x1c34c8b210>,\n",
       " <matplotlib.axis.XTick at 0x1c34c7e350>,\n",
       " <matplotlib.axis.XTick at 0x1c34c92450>,\n",
       " <matplotlib.axis.XTick at 0x1c34c92a10>,\n",
       " <matplotlib.axis.XTick at 0x1c34c92d50>,\n",
       " <matplotlib.axis.XTick at 0x1c34dfb6d0>,\n",
       " <matplotlib.axis.XTick at 0x1c34dfbd10>,\n",
       " <matplotlib.axis.XTick at 0x1c34e01390>,\n",
       " <matplotlib.axis.XTick at 0x1c34e019d0>,\n",
       " <matplotlib.axis.XTick at 0x1c34e01610>,\n",
       " <matplotlib.axis.XTick at 0x1c34e01510>,\n",
       " <matplotlib.axis.XTick at 0x1c34c92790>,\n",
       " <matplotlib.axis.XTick at 0x1c34e09590>,\n",
       " <matplotlib.axis.XTick at 0x1c34e09bd0>,\n",
       " <matplotlib.axis.XTick at 0x1c34e11250>,\n",
       " <matplotlib.axis.XTick at 0x1c34e11890>,\n",
       " <matplotlib.axis.XTick at 0x1c34e11ed0>,\n",
       " <matplotlib.axis.XTick at 0x1c34e18550>,\n",
       " <matplotlib.axis.XTick at 0x1c34e18b90>,\n",
       " <matplotlib.axis.XTick at 0x1c34e183d0>,\n",
       " <matplotlib.axis.XTick at 0x1c34e11310>,\n",
       " <matplotlib.axis.XTick at 0x1c34c92390>,\n",
       " <matplotlib.axis.XTick at 0x1c34e1f7d0>,\n",
       " <matplotlib.axis.XTick at 0x1c34e1fe10>,\n",
       " <matplotlib.axis.XTick at 0x1c34e24490>,\n",
       " <matplotlib.axis.XTick at 0x1c34e24ad0>,\n",
       " <matplotlib.axis.XTick at 0x1c34e2c190>,\n",
       " <matplotlib.axis.XTick at 0x1c34e2c790>,\n",
       " <matplotlib.axis.XTick at 0x1c34e2cdd0>,\n",
       " <matplotlib.axis.XTick at 0x1c34e2c710>,\n",
       " <matplotlib.axis.XTick at 0x1c34e1f6d0>,\n",
       " <matplotlib.axis.XTick at 0x1c34e32350>,\n",
       " <matplotlib.axis.XTick at 0x1c34e32990>,\n",
       " <matplotlib.axis.XTick at 0x1c34e32a90>,\n",
       " <matplotlib.axis.XTick at 0x1c34efa650>,\n",
       " <matplotlib.axis.XTick at 0x1c34efac90>,\n",
       " <matplotlib.axis.XTick at 0x1c34f01310>,\n",
       " <matplotlib.axis.XTick at 0x1c34f01950>,\n",
       " <matplotlib.axis.XTick at 0x1c34f01810>,\n",
       " <matplotlib.axis.XTick at 0x1c34efa5d0>,\n",
       " <matplotlib.axis.XTick at 0x1c34e240d0>,\n",
       " <matplotlib.axis.XTick at 0x1c34f08590>,\n",
       " <matplotlib.axis.XTick at 0x1c34f08bd0>,\n",
       " <matplotlib.axis.XTick at 0x1c34f10250>]"
      ]
     },
     "execution_count": 126,
     "metadata": {},
     "output_type": "execute_result"
    },
    {
     "data": {
      "text/plain": [
       "<Figure size 432x288 with 0 Axes>"
      ]
     },
     "metadata": {},
     "output_type": "display_data"
    },
    {
     "data": {
      "image/png": "[encoded data removed]",
      "text/plain": [
       "<Figure size 2160x720 with 1 Axes>"
      ]
     },
     "metadata": {
      "needs_background": "light"
     },
     "output_type": "display_data"
    }
   ],
   "source": [
    "plt.clf()\n",
    "plt.figure(figsize=(30,10));\n",
    "a=sns.distplot(spot[:,3],bins=1000,kde=False)\n",
    "a.set_yscale('log')\n",
    "a.set_xticks(ticks=range(0,1400000,10000),minor=True)"
   ]
  },
  {
   "cell_type": "code",
   "execution_count": 127,
   "metadata": {},
   "outputs": [],
   "source": [
    "intensity=200000\n",
    "di=100\n",
    "select=spot[np.logical_and(spot[:,3]<=intensity+di,spot[:,3]>intensity-di)]\n",
    "\n",
    "\n"
   ]
  },
  {
   "cell_type": "code",
   "execution_count": 128,
   "metadata": {},
   "outputs": [
    {
     "data": {
      "text/plain": [
       "(27, 4)"
      ]
     },
     "execution_count": 128,
     "metadata": {},
     "output_type": "execute_result"
    }
   ],
   "source": [
    "select.shape"
   ]
  },
  {
   "cell_type": "code",
   "execution_count": 129,
   "metadata": {},
   "outputs": [],
   "source": [
    "z=select[2,2]\n",
    "y=select[2,1]\n",
    "x=select[2,0]\n",
    "Z=int(np.floor(z))\n",
    "Y=int(np.floor(y))\n",
    "X=int(np.floor(x))\n",
    "dz=50\n",
    "dy=100\n",
    "dx=100"
   ]
  },
  {
   "cell_type": "code",
   "execution_count": 21,
   "metadata": {},
   "outputs": [
    {
     "data": {
      "text/plain": [
       "101.96395465760997"
      ]
     },
     "execution_count": 21,
     "metadata": {},
     "output_type": "execute_result"
    }
   ],
   "source": [
    "z"
   ]
  },
  {
   "cell_type": "code",
   "execution_count": 137,
   "metadata": {},
   "outputs": [
    {
     "data": {
      "text/plain": [
       "<Image layer 'Image [3]' at 0x1c34eca150>"
      ]
     },
     "execution_count": 137,
     "metadata": {},
     "output_type": "execute_result"
    }
   ],
   "source": [
    "# get n5 image data for channel 1\n",
    "im = z5py.File(imdir, use_zarr_format=False)       \n",
    "img_1 = im[channel_1+'/s2'][Z-dz:Z+dz,Y-dy:Y+dy,X-dx:X+dx]\n",
    "viewer.add_image(img_1.astype('float32'),colormap='green',blending='additive')"
   ]
  },
  {
   "cell_type": "code",
   "execution_count": 131,
   "metadata": {},
   "outputs": [
    {
     "data": {
      "text/plain": [
       "<Points layer 'Points' at 0x1c3cb15310>"
      ]
     },
     "execution_count": 131,
     "metadata": {},
     "output_type": "execute_result"
    }
   ],
   "source": [
    "z0=z-Z+dz\n",
    "y0=y-Y+dy\n",
    "x0=x-X+dx\n",
    "a=np.array([[z0],[y0],[x0]])\n",
    "a=np.transpose(a)\n",
    "viewer.add_points(a, size=1, face_color='red',edge_color='red')"
   ]
  },
  {
   "cell_type": "code",
   "execution_count": 132,
   "metadata": {},
   "outputs": [
    {
     "data": {
      "text/plain": [
       "<Points layer 'Points [1]' at 0x1c442e0290>"
      ]
     },
     "execution_count": 132,
     "metadata": {},
     "output_type": "execute_result"
    }
   ],
   "source": [
    "###show spot count###\n",
    "b=spot[np.logical_and(spot[:,0]<=X+dx,spot[:,0]>X-dx)]\n",
    "b=b[np.logical_and(b[:,1]<=Y+dy,b[:,1]>Y-dy)]\n",
    "b=b[np.logical_and(b[:,2]<=Z+dz,b[:,2]>Z-dz)]\n",
    "bx=b[:,0]-X+dx\n",
    "by=b[:,1]-Y+dy\n",
    "bz=b[:,2]-Z+dz\n",
    "point=np.stack((bz,by,bx),axis=-1)\n",
    "viewer.add_points(point, size=1, face_color='red',edge_color='red')"
   ]
  },
  {
   "cell_type": "code",
   "execution_count": 61,
   "metadata": {},
   "outputs": [],
   "source": [
    "# get n5 image data for channel 2\n",
    "if channel_2!='':\n",
    "    im = z5py.File(imdir, use_zarr_format=False)    \n",
    "    img_2 = im[channel_2+'/s2'][Z-dz:Z+dz,Y-dy:Y+dy,X-dx:X+dx]\n",
    "    viewer.add_image(img_2.astype('float32'),colormap='magenta',contrast_limits=(50,500),blending='additive')"
   ]
  },
  {
   "cell_type": "code",
   "execution_count": 111,
   "metadata": {},
   "outputs": [
    {
     "name": "stdout",
     "output_type": "stream",
     "text": [
      "24201\n"
     ]
    }
   ],
   "source": [
    "#### Optional:read in segmentation masks#### \n",
    "lb=imread(\"/Volumes/multifish/Yuhan/LHA3/segmentation/R3_label_affinity.tif\")\n",
    "nCells = np.max(lb)\n",
    "print(nCells)"
   ]
  },
  {
   "cell_type": "code",
   "execution_count": 133,
   "metadata": {},
   "outputs": [
    {
     "data": {
      "text/plain": [
       "<Image layer 'Image [1]' at 0x1c3cb20050>"
      ]
     },
     "execution_count": 133,
     "metadata": {},
     "output_type": "execute_result"
    }
   ],
   "source": [
    "lb_sub=lb[Z-dz:Z+dz,Y-dy:Y+dy,X-dx:X+dx]\n",
    "viewer.add_image(lb_sub.astype('float32'),blending='additive')\n",
    "\n"
   ]
  },
  {
   "cell_type": "code",
   "execution_count": null,
   "metadata": {},
   "outputs": [],
   "source": []
  }
 ],
 "metadata": {
  "kernelspec": {
   "display_name": "local-venv",
   "language": "python",
   "name": "local-venv"
  },
  "language_info": {
   "codemirror_mode": {
    "name": "ipython",
    "version": 3
   },
   "file_extension": ".py",
   "mimetype": "text/x-python",
   "name": "python",
   "nbconvert_exporter": "python",
   "pygments_lexer": "ipython3",
   "version": "3.7.4"
  }
 },
 "nbformat": 4,
 "nbformat_minor": 2
}
